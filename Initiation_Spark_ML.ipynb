{
  "nbformat": 4,
  "nbformat_minor": 0,
  "metadata": {
    "colab": {
      "provenance": [],
      "authorship_tag": "ABX9TyMVy+QRGveaQG7noXfOe1DZ",
      "include_colab_link": true
    },
    "kernelspec": {
      "name": "python3",
      "display_name": "Python 3"
    },
    "language_info": {
      "name": "python"
    }
  },
  "cells": [
    {
      "cell_type": "markdown",
      "metadata": {
        "id": "view-in-github",
        "colab_type": "text"
      },
      "source": [
        "<a href=\"https://colab.research.google.com/github/ShaD971/init-Spark-ML/blob/main/Initiation_Spark_ML.ipynb\" target=\"_parent\"><img src=\"https://colab.research.google.com/assets/colab-badge.svg\" alt=\"Open In Colab\"/></a>"
      ]
    },
    {
      "cell_type": "code",
      "execution_count": 1,
      "metadata": {
        "colab": {
          "base_uri": "https://localhost:8080/"
        },
        "id": "iTJ7gzY4ZaA2",
        "outputId": "1e12769d-7774-4a99-f4c6-bb4c4867a729"
      },
      "outputs": [
        {
          "output_type": "stream",
          "name": "stdout",
          "text": [
            "Get:1 https://cloud.r-project.org/bin/linux/ubuntu jammy-cran40/ InRelease [3,626 B]\n",
            "Hit:2 https://developer.download.nvidia.com/compute/cuda/repos/ubuntu2204/x86_64  InRelease\n",
            "Hit:3 http://archive.ubuntu.com/ubuntu jammy InRelease\n",
            "Get:4 http://archive.ubuntu.com/ubuntu jammy-updates InRelease [119 kB]\n",
            "Get:5 http://security.ubuntu.com/ubuntu jammy-security InRelease [110 kB]\n",
            "Get:6 http://archive.ubuntu.com/ubuntu jammy-backports InRelease [109 kB]\n",
            "Hit:7 https://ppa.launchpadcontent.net/c2d4u.team/c2d4u4.0+/ubuntu jammy InRelease\n",
            "Hit:8 https://ppa.launchpadcontent.net/deadsnakes/ppa/ubuntu jammy InRelease\n",
            "Hit:9 https://ppa.launchpadcontent.net/graphics-drivers/ppa/ubuntu jammy InRelease\n",
            "Hit:10 https://ppa.launchpadcontent.net/ubuntugis/ppa/ubuntu jammy InRelease\n",
            "Get:11 http://archive.ubuntu.com/ubuntu jammy-updates/universe amd64 Packages [1,375 kB]\n",
            "Get:12 http://archive.ubuntu.com/ubuntu jammy-updates/main amd64 Packages [2,125 kB]\n",
            "Get:13 http://archive.ubuntu.com/ubuntu jammy-backports/main amd64 Packages [110 kB]\n",
            "Get:14 http://archive.ubuntu.com/ubuntu jammy-backports/universe amd64 Packages [35.0 kB]\n",
            "Fetched 3,986 kB in 3s (1,242 kB/s)\n",
            "Reading package lists...\n"
          ]
        }
      ],
      "source": [
        "# Mise à jour des paquets et installation de Java 8\n",
        "!apt-get update -q"
      ]
    },
    {
      "cell_type": "code",
      "source": [
        "!apt-get install -y openjdk-8-jdk-headless -qq > /dev/null"
      ],
      "metadata": {
        "id": "1pqSXkIxZgS3"
      },
      "execution_count": 2,
      "outputs": []
    },
    {
      "cell_type": "code",
      "source": [
        "# Téléchargement et extraction de Spark\n",
        "!wget -q http://archive.apache.org/dist/spark/spark-3.1.2/spark-3.1.2-bin-hadoop2.7.tgz\n",
        "!tar xf spark-3.1.2-bin-hadoop2.7.tgz"
      ],
      "metadata": {
        "id": "yFyToA5vZlfN"
      },
      "execution_count": 3,
      "outputs": []
    },
    {
      "cell_type": "code",
      "source": [
        "# Vérifiez le contenu du répertoire Spark\n",
        "!ls /content/spark-3.1.2-bin-hadoop2.7"
      ],
      "metadata": {
        "colab": {
          "base_uri": "https://localhost:8080/"
        },
        "id": "zp_7pSeeZsc_",
        "outputId": "43c0a1fc-a4ae-44ca-d810-c249ec0b3f28"
      },
      "execution_count": 4,
      "outputs": [
        {
          "output_type": "stream",
          "name": "stdout",
          "text": [
            "bin   data\tjars\t    LICENSE   NOTICE  R\t\t RELEASE  yarn\n",
            "conf  examples\tkubernetes  licenses  python  README.md  sbin\n"
          ]
        }
      ]
    },
    {
      "cell_type": "code",
      "source": [
        "# Installation de findspark\n",
        "!pip install -q findspark\n",
        "\n",
        "# Configuration des variables d'environnement\n",
        "import os\n",
        "import findspark"
      ],
      "metadata": {
        "id": "qSn9stN6Zw1l"
      },
      "execution_count": 5,
      "outputs": []
    },
    {
      "cell_type": "code",
      "source": [
        "os.environ[\"JAVA_HOME\"] = \"/usr/lib/jvm/java-8-openjdk-amd64\"\n",
        "os.environ[\"SPARK_HOME\"] = \"/content/spark-3.1.2-bin-hadoop2.7\"\n",
        "findspark.init()"
      ],
      "metadata": {
        "id": "SiwoZ2QZZ8UG"
      },
      "execution_count": 6,
      "outputs": []
    },
    {
      "cell_type": "code",
      "source": [
        "# Vérifiez la présence de py4j\n",
        "!ls /content/spark-3.1.2-bin-hadoop2.7/python/lib"
      ],
      "metadata": {
        "colab": {
          "base_uri": "https://localhost:8080/"
        },
        "id": "3rQM3KxpaAg5",
        "outputId": "981b35e1-aa04-472c-a00f-8154b09ecdd8"
      },
      "execution_count": 7,
      "outputs": [
        {
          "output_type": "stream",
          "name": "stdout",
          "text": [
            "py4j-0.10.9-src.zip  PY4J_LICENSE.txt  pyspark.zip\n"
          ]
        }
      ]
    },
    {
      "cell_type": "code",
      "source": [
        "# Initialisation de SparkSession et SparkContext\n",
        "from pyspark.sql import SparkSession\n",
        "from pyspark import SparkContext, SparkConf\n",
        "\n",
        "# Configuration de Spark\n",
        "conf = SparkConf().setAppName(\"myApp\").setMaster(\"local[*]\")\n",
        "\n",
        "# Initialisation de SparkContext avec getOrCreate\n",
        "sc = SparkContext.getOrCreate(conf=conf)\n",
        "\n",
        "# Création de SparkSession\n",
        "spark = SparkSession.builder.config(conf=conf).getOrCreate()\n",
        "\n",
        "# Vérification de SparkContext et SparkSession\n",
        "print(sc)\n",
        "print(sc.version)\n",
        "print(spark)"
      ],
      "metadata": {
        "colab": {
          "base_uri": "https://localhost:8080/"
        },
        "id": "lPmzqoz0aFyZ",
        "outputId": "68e9f27d-a293-49a5-a4d5-4109964537f6"
      },
      "execution_count": 8,
      "outputs": [
        {
          "output_type": "stream",
          "name": "stdout",
          "text": [
            "<SparkContext master=local[*] appName=myApp>\n",
            "3.1.2\n",
            "<pyspark.sql.session.SparkSession object at 0x7bb81cf21e40>\n"
          ]
        }
      ]
    },
    {
      "cell_type": "code",
      "source": [
        "sc"
      ],
      "metadata": {
        "colab": {
          "base_uri": "https://localhost:8080/",
          "height": 196
        },
        "id": "tQ4R4Tu5dDgT",
        "outputId": "9b196e73-a57e-4799-8fb0-a76139fecebd"
      },
      "execution_count": 9,
      "outputs": [
        {
          "output_type": "execute_result",
          "data": {
            "text/plain": [
              "<SparkContext master=local[*] appName=myApp>"
            ],
            "text/html": [
              "\n",
              "        <div>\n",
              "            <p><b>SparkContext</b></p>\n",
              "\n",
              "            <p><a href=\"http://4c19d7593f29:4040\">Spark UI</a></p>\n",
              "\n",
              "            <dl>\n",
              "              <dt>Version</dt>\n",
              "                <dd><code>v3.1.2</code></dd>\n",
              "              <dt>Master</dt>\n",
              "                <dd><code>local[*]</code></dd>\n",
              "              <dt>AppName</dt>\n",
              "                <dd><code>myApp</code></dd>\n",
              "            </dl>\n",
              "        </div>\n",
              "        "
            ]
          },
          "metadata": {},
          "execution_count": 9
        }
      ]
    },
    {
      "cell_type": "markdown",
      "source": [
        "DATAFRAME"
      ],
      "metadata": {
        "id": "pgXLQrVPhaGJ"
      }
    },
    {
      "cell_type": "code",
      "source": [
        "import pyspark.sql.functions as F\n",
        "from pyspark.sql.types import *"
      ],
      "metadata": {
        "id": "VivjuFqGhZT8"
      },
      "execution_count": 10,
      "outputs": []
    },
    {
      "cell_type": "code",
      "source": [
        "shema = StructType().add(\"UUID\" , \"string\").add(\"metier\", \"string\").add(\"villes\" , \"string\").add(\"Adress\" , \"string\").add(\"CP\" , \"string\").add(\"age\" , \"string\").add(\"genre\" , \"string\")"
      ],
      "metadata": {
        "id": "DiyQh0Rmh1hL"
      },
      "execution_count": 11,
      "outputs": []
    },
    {
      "cell_type": "code",
      "source": [
        "df= spark.createDataFrame([(\"U122\", \"Ingenieur\" , \"Paris\" , \"Rue Victor Hugo\", \"75001\", 85, \"Homme\"),(\"U124\", \"Ingenieur\" , \"Lyon\" , \"Rue Houdet\", \"75001\", 55, \"Femme\"),(\"U123\", \"Ingenieur\" , \"Melun\" , \"Rue Marcel Hugo\", \"75001\", 85, \"Homme\")])"
      ],
      "metadata": {
        "id": "4joXKuaPjKsx"
      },
      "execution_count": 13,
      "outputs": []
    },
    {
      "cell_type": "code",
      "source": [
        "df.printSchema()"
      ],
      "metadata": {
        "colab": {
          "base_uri": "https://localhost:8080/"
        },
        "id": "wH3GTZCzlujY",
        "outputId": "0f7898d1-0efc-4c61-b19a-4b5cc5a95290"
      },
      "execution_count": 14,
      "outputs": [
        {
          "output_type": "stream",
          "name": "stdout",
          "text": [
            "root\n",
            " |-- _1: string (nullable = true)\n",
            " |-- _2: string (nullable = true)\n",
            " |-- _3: string (nullable = true)\n",
            " |-- _4: string (nullable = true)\n",
            " |-- _5: string (nullable = true)\n",
            " |-- _6: long (nullable = true)\n",
            " |-- _7: string (nullable = true)\n",
            "\n"
          ]
        }
      ]
    },
    {
      "cell_type": "code",
      "source": [
        "df.show()"
      ],
      "metadata": {
        "colab": {
          "base_uri": "https://localhost:8080/"
        },
        "id": "MH0qi-n0l0ml",
        "outputId": "20af8636-ec11-4039-fd0e-0aa4684658fd"
      },
      "execution_count": 15,
      "outputs": [
        {
          "output_type": "stream",
          "name": "stdout",
          "text": [
            "+----+---------+-----+---------------+-----+---+-----+\n",
            "|  _1|       _2|   _3|             _4|   _5| _6|   _7|\n",
            "+----+---------+-----+---------------+-----+---+-----+\n",
            "|U122|Ingenieur|Paris|Rue Victor Hugo|75001| 85|Homme|\n",
            "|U124|Ingenieur| Lyon|     Rue Houdet|75001| 55|Femme|\n",
            "|U123|Ingenieur|Melun|Rue Marcel Hugo|75001| 85|Homme|\n",
            "+----+---------+-----+---------------+-----+---+-----+\n",
            "\n"
          ]
        }
      ]
    },
    {
      "cell_type": "code",
      "source": [
        "from google.colab import files\n",
        "files.upload()"
      ],
      "metadata": {
        "colab": {
          "base_uri": "https://localhost:8080/",
          "height": 215
        },
        "id": "VRvcnf6Bl8eZ",
        "outputId": "9f12571c-c636-4ea1-cc6c-9c1a043cb346"
      },
      "execution_count": 18,
      "outputs": [
        {
          "output_type": "display_data",
          "data": {
            "text/plain": [
              "<IPython.core.display.HTML object>"
            ],
            "text/html": [
              "\n",
              "     <input type=\"file\" id=\"files-13886f4c-9314-45ad-82f0-2dbabe225c37\" name=\"files[]\" multiple disabled\n",
              "        style=\"border:none\" />\n",
              "     <output id=\"result-13886f4c-9314-45ad-82f0-2dbabe225c37\">\n",
              "      Upload widget is only available when the cell has been executed in the\n",
              "      current browser session. Please rerun this cell to enable.\n",
              "      </output>\n",
              "      <script>// Copyright 2017 Google LLC\n",
              "//\n",
              "// Licensed under the Apache License, Version 2.0 (the \"License\");\n",
              "// you may not use this file except in compliance with the License.\n",
              "// You may obtain a copy of the License at\n",
              "//\n",
              "//      http://www.apache.org/licenses/LICENSE-2.0\n",
              "//\n",
              "// Unless required by applicable law or agreed to in writing, software\n",
              "// distributed under the License is distributed on an \"AS IS\" BASIS,\n",
              "// WITHOUT WARRANTIES OR CONDITIONS OF ANY KIND, either express or implied.\n",
              "// See the License for the specific language governing permissions and\n",
              "// limitations under the License.\n",
              "\n",
              "/**\n",
              " * @fileoverview Helpers for google.colab Python module.\n",
              " */\n",
              "(function(scope) {\n",
              "function span(text, styleAttributes = {}) {\n",
              "  const element = document.createElement('span');\n",
              "  element.textContent = text;\n",
              "  for (const key of Object.keys(styleAttributes)) {\n",
              "    element.style[key] = styleAttributes[key];\n",
              "  }\n",
              "  return element;\n",
              "}\n",
              "\n",
              "// Max number of bytes which will be uploaded at a time.\n",
              "const MAX_PAYLOAD_SIZE = 100 * 1024;\n",
              "\n",
              "function _uploadFiles(inputId, outputId) {\n",
              "  const steps = uploadFilesStep(inputId, outputId);\n",
              "  const outputElement = document.getElementById(outputId);\n",
              "  // Cache steps on the outputElement to make it available for the next call\n",
              "  // to uploadFilesContinue from Python.\n",
              "  outputElement.steps = steps;\n",
              "\n",
              "  return _uploadFilesContinue(outputId);\n",
              "}\n",
              "\n",
              "// This is roughly an async generator (not supported in the browser yet),\n",
              "// where there are multiple asynchronous steps and the Python side is going\n",
              "// to poll for completion of each step.\n",
              "// This uses a Promise to block the python side on completion of each step,\n",
              "// then passes the result of the previous step as the input to the next step.\n",
              "function _uploadFilesContinue(outputId) {\n",
              "  const outputElement = document.getElementById(outputId);\n",
              "  const steps = outputElement.steps;\n",
              "\n",
              "  const next = steps.next(outputElement.lastPromiseValue);\n",
              "  return Promise.resolve(next.value.promise).then((value) => {\n",
              "    // Cache the last promise value to make it available to the next\n",
              "    // step of the generator.\n",
              "    outputElement.lastPromiseValue = value;\n",
              "    return next.value.response;\n",
              "  });\n",
              "}\n",
              "\n",
              "/**\n",
              " * Generator function which is called between each async step of the upload\n",
              " * process.\n",
              " * @param {string} inputId Element ID of the input file picker element.\n",
              " * @param {string} outputId Element ID of the output display.\n",
              " * @return {!Iterable<!Object>} Iterable of next steps.\n",
              " */\n",
              "function* uploadFilesStep(inputId, outputId) {\n",
              "  const inputElement = document.getElementById(inputId);\n",
              "  inputElement.disabled = false;\n",
              "\n",
              "  const outputElement = document.getElementById(outputId);\n",
              "  outputElement.innerHTML = '';\n",
              "\n",
              "  const pickedPromise = new Promise((resolve) => {\n",
              "    inputElement.addEventListener('change', (e) => {\n",
              "      resolve(e.target.files);\n",
              "    });\n",
              "  });\n",
              "\n",
              "  const cancel = document.createElement('button');\n",
              "  inputElement.parentElement.appendChild(cancel);\n",
              "  cancel.textContent = 'Cancel upload';\n",
              "  const cancelPromise = new Promise((resolve) => {\n",
              "    cancel.onclick = () => {\n",
              "      resolve(null);\n",
              "    };\n",
              "  });\n",
              "\n",
              "  // Wait for the user to pick the files.\n",
              "  const files = yield {\n",
              "    promise: Promise.race([pickedPromise, cancelPromise]),\n",
              "    response: {\n",
              "      action: 'starting',\n",
              "    }\n",
              "  };\n",
              "\n",
              "  cancel.remove();\n",
              "\n",
              "  // Disable the input element since further picks are not allowed.\n",
              "  inputElement.disabled = true;\n",
              "\n",
              "  if (!files) {\n",
              "    return {\n",
              "      response: {\n",
              "        action: 'complete',\n",
              "      }\n",
              "    };\n",
              "  }\n",
              "\n",
              "  for (const file of files) {\n",
              "    const li = document.createElement('li');\n",
              "    li.append(span(file.name, {fontWeight: 'bold'}));\n",
              "    li.append(span(\n",
              "        `(${file.type || 'n/a'}) - ${file.size} bytes, ` +\n",
              "        `last modified: ${\n",
              "            file.lastModifiedDate ? file.lastModifiedDate.toLocaleDateString() :\n",
              "                                    'n/a'} - `));\n",
              "    const percent = span('0% done');\n",
              "    li.appendChild(percent);\n",
              "\n",
              "    outputElement.appendChild(li);\n",
              "\n",
              "    const fileDataPromise = new Promise((resolve) => {\n",
              "      const reader = new FileReader();\n",
              "      reader.onload = (e) => {\n",
              "        resolve(e.target.result);\n",
              "      };\n",
              "      reader.readAsArrayBuffer(file);\n",
              "    });\n",
              "    // Wait for the data to be ready.\n",
              "    let fileData = yield {\n",
              "      promise: fileDataPromise,\n",
              "      response: {\n",
              "        action: 'continue',\n",
              "      }\n",
              "    };\n",
              "\n",
              "    // Use a chunked sending to avoid message size limits. See b/62115660.\n",
              "    let position = 0;\n",
              "    do {\n",
              "      const length = Math.min(fileData.byteLength - position, MAX_PAYLOAD_SIZE);\n",
              "      const chunk = new Uint8Array(fileData, position, length);\n",
              "      position += length;\n",
              "\n",
              "      const base64 = btoa(String.fromCharCode.apply(null, chunk));\n",
              "      yield {\n",
              "        response: {\n",
              "          action: 'append',\n",
              "          file: file.name,\n",
              "          data: base64,\n",
              "        },\n",
              "      };\n",
              "\n",
              "      let percentDone = fileData.byteLength === 0 ?\n",
              "          100 :\n",
              "          Math.round((position / fileData.byteLength) * 100);\n",
              "      percent.textContent = `${percentDone}% done`;\n",
              "\n",
              "    } while (position < fileData.byteLength);\n",
              "  }\n",
              "\n",
              "  // All done.\n",
              "  yield {\n",
              "    response: {\n",
              "      action: 'complete',\n",
              "    }\n",
              "  };\n",
              "}\n",
              "\n",
              "scope.google = scope.google || {};\n",
              "scope.google.colab = scope.google.colab || {};\n",
              "scope.google.colab._files = {\n",
              "  _uploadFiles,\n",
              "  _uploadFilesContinue,\n",
              "};\n",
              "})(self);\n",
              "</script> "
            ]
          },
          "metadata": {}
        },
        {
          "output_type": "stream",
          "name": "stdout",
          "text": [
            "Saving 03_03_data.csv to 03_03_data (1).csv\n"
          ]
        },
        {
          "output_type": "execute_result",
          "data": {
            "text/plain": [
              "{'03_03_data (1).csv': b'Pays;2005;2006;2007;2008;2009;2010;2011;2012;2013;2014;2015;2016;2017;2018\\r\\nAllemagne;7,20;8,50;10,10;10,10;10,90;11,70;12,50;13,60;13,80;14,40;14,90;14,90;15,50;16,50\\r\\nAutriche;24,40;26,30;28,20;28,90;31,00;31,20;31,60;32,70;32,80;33,70;33,50;33,40;33,10;33,40\\r\\nBelgique;2,30;2,60;3,10;3,60;4,70;5,60;6,30;7,20;7,50;8,00;8,00;8,70;9,10;9,40\\r\\nBulgarie;9,20;9,40;9,10;10,30;12,00;13,90;14,20;15,80;18,90;18,10;18,30;18,80;18,70;20,50\\r\\nChypre;3,10;3,30;4,00;5,10;5,90;6,20;6,30;7,10;8,50;9,20;9,90;9,90;10,50;13,90\\r\\nCroatie;23,70;22,70;22,20;22,00;23,60;25,10;25,40;26,80;28,00;27,80;29,00;28,30;27,30;28,00\\r\\nDanemark;16,00;16,30;17,70;18,50;20,00;21,90;23,40;25,50;27,20;29,30;30,80;31,80;34,70;35,70\\r\\nEspagne;8,40;9,10;9,70;10,70;13,00;13,80;13,20;14,30;15,30;16,10;16,20;17,40;17,60;17,50\\r\\nEstonie;17,40;16,00;17,00;18,60;22,90;24,60;25,30;25,50;25,30;26,10;28,20;28,70;29,10;30,00\\r\\nFinlande;28,80;30,10;29,60;31,40;31,30;32,40;32,80;34,40;36,70;38,80;39,30;39,00;40,90;41,20\\r\\nFrance;9,60;9,30;10,20;11,20;12,20;12,70;(1) 12,7;13,40;14,00;14,60;15,00;15,70;16,00;16,60\\r\\nGr\\xe8ce;7,30;7,50;8,20;8,20;8,70;10,10;11,20;13,70;15,30;15,70;15,70;15,40;17,00;18,00\\r\\nHongrie;6,90;7,40;8,60;8,60;11,70;12,70;14,00;15,50;16,20;14,60;14,50;14,30;13,50;12,50\\r\\nIrlande;2,80;3,00;3,50;3,90;5,20;5,70;6,60;7,10;7,60;8,60;9,10;9,30;10,60;11,10\\r\\nItalie;7,50;8,30;9,80;11,50;12,80;13,00;12,90;15,40;16,70;17,10;17,50;17,40;18,30;17,80\\r\\nLettonie;32,30;31,10;29,60;29,80;34,30;30,40;33,50;35,70;37,00;38,60;37,50;37,10;39,00;40,30\\r\\nLituanie;16,80;16,90;16,50;17,80;19,80;19,60;19,90;21,40;22,70;23,60;25,80;25,60;26,00;24,40\\r\\nLuxembourg;1,40;1,50;2,70;2,80;2,90;2,90;2,90;3,10;3,50;4,50;5,10;5,40;6,30;9,10\\r\\nMalte;0,10;0,10;0,20;0,20;0,20;1,00;1,90;2,90;3,80;4,70;5,10;6,20;7,30;8,00\\r\\nPays-Bas;2,50;2,80;3,30;3,60;4,30;3,90;4,50;4,70;4,70;5,40;5,70;5,80;6,50;7,40\\r\\nPologne;6,90;6,90;6,90;7,70;8,70;9,30;10,30;10,90;11,40;11,50;11,70;11,30;11,00;11,30\\r\\nPortugal;19,50;20,80;21,90;22,90;24,40;24,20;24,60;24,60;25,70;29,50;30,50;30,90;30,60;30,30\\r\\nR\\xe9publique tch\\xe8que;7,10;7,40;7,90;8,70;10,00;10,50;10,90;12,80;13,90;15,10;15,10;14,90;14,80;15,20\\r\\nRoumanie;17,60;17,10;18,20;20,20;22,20;22,80;21,20;22,80;23,90;24,80;24,80;25,00;24,50;23,90\\r\\nRoyaume-Uni;1,10;1,30;1,60;2,70;3,30;3,80;4,30;4,40;5,50;6,70;8,30;9,00;9,70;11,00\\r\\nSlovaquie;6,40;6,60;7,80;7,70;9,40;9,10;10,30;10,50;10,10;11,70;12,90;12,00;11,50;11,90\\r\\nSlov\\xe9nie;16,00;15,60;15,60;15,00;20,10;20,40;20,30;20,80;22,40;21,50;21,90;21,30;21,10;21,10\\r\\nSu\\xe8de;40,70;42,40;43,90;44,70;47,90;47,00;48,20;50,20;50,80;51,90;53,00;53,40;54,20;54,60\\r\\n'}"
            ]
          },
          "metadata": {},
          "execution_count": 18
        }
      ]
    },
    {
      "cell_type": "code",
      "source": [
        "df = spark.read.option(\"delimiter\" , \";\").csv(\"03_03_data.csv\", header=True)\n",
        "type(df)"
      ],
      "metadata": {
        "colab": {
          "base_uri": "https://localhost:8080/",
          "height": 186
        },
        "id": "k2-aNjF8oHZA",
        "outputId": "4d039a2e-885c-48e1-f848-7e63ddc9bbbc"
      },
      "execution_count": 20,
      "outputs": [
        {
          "output_type": "execute_result",
          "data": {
            "text/plain": [
              "pyspark.sql.dataframe.DataFrame"
            ],
            "text/html": [
              "<div style=\"max-width:800px; border: 1px solid var(--colab-border-color);\"><style>\n",
              "      pre.function-repr-contents {\n",
              "        overflow-x: auto;\n",
              "        padding: 8px 12px;\n",
              "        max-height: 500px;\n",
              "      }\n",
              "\n",
              "      pre.function-repr-contents.function-repr-contents-collapsed {\n",
              "        cursor: pointer;\n",
              "        max-height: 100px;\n",
              "      }\n",
              "    </style>\n",
              "    <pre style=\"white-space: initial; background:\n",
              "         var(--colab-secondary-surface-color); padding: 8px 12px;\n",
              "         border-bottom: 1px solid var(--colab-border-color);\"><b>pyspark.sql.dataframe.DataFrame</b><br/>def __init__(jdf, sql_ctx)</pre><pre class=\"function-repr-contents function-repr-contents-collapsed\" style=\"\"><a class=\"filepath\" style=\"display:none\" href=\"#\">/content/spark-3.1.2-bin-hadoop2.7/python/pyspark/sql/dataframe.py</a>A distributed collection of data grouped into named columns.\n",
              "\n",
              "A :class:`DataFrame` is equivalent to a relational table in Spark SQL,\n",
              "and can be created using various functions in :class:`SparkSession`::\n",
              "\n",
              "    people = spark.read.parquet(&quot;...&quot;)\n",
              "\n",
              "Once created, it can be manipulated using the various domain-specific-language\n",
              "(DSL) functions defined in: :class:`DataFrame`, :class:`Column`.\n",
              "\n",
              "To select a column from the :class:`DataFrame`, use the apply method::\n",
              "\n",
              "    ageCol = people.age\n",
              "\n",
              "A more concrete example::\n",
              "\n",
              "    # To create DataFrame using SparkSession\n",
              "    people = spark.read.parquet(&quot;...&quot;)\n",
              "    department = spark.read.parquet(&quot;...&quot;)\n",
              "\n",
              "    people.filter(people.age &gt; 30).join(department, people.deptId == department.id) \\\n",
              "      .groupBy(department.name, &quot;gender&quot;).agg({&quot;salary&quot;: &quot;avg&quot;, &quot;age&quot;: &quot;max&quot;})\n",
              "\n",
              ".. versionadded:: 1.3.0</pre>\n",
              "      <script>\n",
              "      if (google.colab.kernel.accessAllowed && google.colab.files && google.colab.files.view) {\n",
              "        for (const element of document.querySelectorAll('.filepath')) {\n",
              "          element.style.display = 'block'\n",
              "          element.onclick = (event) => {\n",
              "            event.preventDefault();\n",
              "            event.stopPropagation();\n",
              "            google.colab.files.view(element.textContent, 41);\n",
              "          };\n",
              "        }\n",
              "      }\n",
              "      for (const element of document.querySelectorAll('.function-repr-contents')) {\n",
              "        element.onclick = (event) => {\n",
              "          event.preventDefault();\n",
              "          event.stopPropagation();\n",
              "          element.classList.toggle('function-repr-contents-collapsed');\n",
              "        };\n",
              "      }\n",
              "      </script>\n",
              "      </div>"
            ]
          },
          "metadata": {},
          "execution_count": 20
        }
      ]
    },
    {
      "cell_type": "code",
      "source": [
        "df.show(30)#moyenne de la consomation de 20"
      ],
      "metadata": {
        "colab": {
          "base_uri": "https://localhost:8080/"
        },
        "id": "BgN-WDZ1oo8N",
        "outputId": "01f67bc7-f77b-4741-8490-774e88e404a1"
      },
      "execution_count": 21,
      "outputs": [
        {
          "output_type": "stream",
          "name": "stdout",
          "text": [
            "+------------------+-----+-----+-----+-----+-----+-----+--------+-----+-----+-----+-----+-----+-----+-----+\n",
            "|              Pays| 2005| 2006| 2007| 2008| 2009| 2010|    2011| 2012| 2013| 2014| 2015| 2016| 2017| 2018|\n",
            "+------------------+-----+-----+-----+-----+-----+-----+--------+-----+-----+-----+-----+-----+-----+-----+\n",
            "|         Allemagne| 7,20| 8,50|10,10|10,10|10,90|11,70|   12,50|13,60|13,80|14,40|14,90|14,90|15,50|16,50|\n",
            "|          Autriche|24,40|26,30|28,20|28,90|31,00|31,20|   31,60|32,70|32,80|33,70|33,50|33,40|33,10|33,40|\n",
            "|          Belgique| 2,30| 2,60| 3,10| 3,60| 4,70| 5,60|    6,30| 7,20| 7,50| 8,00| 8,00| 8,70| 9,10| 9,40|\n",
            "|          Bulgarie| 9,20| 9,40| 9,10|10,30|12,00|13,90|   14,20|15,80|18,90|18,10|18,30|18,80|18,70|20,50|\n",
            "|            Chypre| 3,10| 3,30| 4,00| 5,10| 5,90| 6,20|    6,30| 7,10| 8,50| 9,20| 9,90| 9,90|10,50|13,90|\n",
            "|           Croatie|23,70|22,70|22,20|22,00|23,60|25,10|   25,40|26,80|28,00|27,80|29,00|28,30|27,30|28,00|\n",
            "|          Danemark|16,00|16,30|17,70|18,50|20,00|21,90|   23,40|25,50|27,20|29,30|30,80|31,80|34,70|35,70|\n",
            "|           Espagne| 8,40| 9,10| 9,70|10,70|13,00|13,80|   13,20|14,30|15,30|16,10|16,20|17,40|17,60|17,50|\n",
            "|           Estonie|17,40|16,00|17,00|18,60|22,90|24,60|   25,30|25,50|25,30|26,10|28,20|28,70|29,10|30,00|\n",
            "|          Finlande|28,80|30,10|29,60|31,40|31,30|32,40|   32,80|34,40|36,70|38,80|39,30|39,00|40,90|41,20|\n",
            "|            France| 9,60| 9,30|10,20|11,20|12,20|12,70|(1) 12,7|13,40|14,00|14,60|15,00|15,70|16,00|16,60|\n",
            "|             Gr�ce| 7,30| 7,50| 8,20| 8,20| 8,70|10,10|   11,20|13,70|15,30|15,70|15,70|15,40|17,00|18,00|\n",
            "|           Hongrie| 6,90| 7,40| 8,60| 8,60|11,70|12,70|   14,00|15,50|16,20|14,60|14,50|14,30|13,50|12,50|\n",
            "|           Irlande| 2,80| 3,00| 3,50| 3,90| 5,20| 5,70|    6,60| 7,10| 7,60| 8,60| 9,10| 9,30|10,60|11,10|\n",
            "|            Italie| 7,50| 8,30| 9,80|11,50|12,80|13,00|   12,90|15,40|16,70|17,10|17,50|17,40|18,30|17,80|\n",
            "|          Lettonie|32,30|31,10|29,60|29,80|34,30|30,40|   33,50|35,70|37,00|38,60|37,50|37,10|39,00|40,30|\n",
            "|          Lituanie|16,80|16,90|16,50|17,80|19,80|19,60|   19,90|21,40|22,70|23,60|25,80|25,60|26,00|24,40|\n",
            "|        Luxembourg| 1,40| 1,50| 2,70| 2,80| 2,90| 2,90|    2,90| 3,10| 3,50| 4,50| 5,10| 5,40| 6,30| 9,10|\n",
            "|             Malte| 0,10| 0,10| 0,20| 0,20| 0,20| 1,00|    1,90| 2,90| 3,80| 4,70| 5,10| 6,20| 7,30| 8,00|\n",
            "|          Pays-Bas| 2,50| 2,80| 3,30| 3,60| 4,30| 3,90|    4,50| 4,70| 4,70| 5,40| 5,70| 5,80| 6,50| 7,40|\n",
            "|           Pologne| 6,90| 6,90| 6,90| 7,70| 8,70| 9,30|   10,30|10,90|11,40|11,50|11,70|11,30|11,00|11,30|\n",
            "|          Portugal|19,50|20,80|21,90|22,90|24,40|24,20|   24,60|24,60|25,70|29,50|30,50|30,90|30,60|30,30|\n",
            "|R�publique tch�que| 7,10| 7,40| 7,90| 8,70|10,00|10,50|   10,90|12,80|13,90|15,10|15,10|14,90|14,80|15,20|\n",
            "|          Roumanie|17,60|17,10|18,20|20,20|22,20|22,80|   21,20|22,80|23,90|24,80|24,80|25,00|24,50|23,90|\n",
            "|       Royaume-Uni| 1,10| 1,30| 1,60| 2,70| 3,30| 3,80|    4,30| 4,40| 5,50| 6,70| 8,30| 9,00| 9,70|11,00|\n",
            "|         Slovaquie| 6,40| 6,60| 7,80| 7,70| 9,40| 9,10|   10,30|10,50|10,10|11,70|12,90|12,00|11,50|11,90|\n",
            "|          Slov�nie|16,00|15,60|15,60|15,00|20,10|20,40|   20,30|20,80|22,40|21,50|21,90|21,30|21,10|21,10|\n",
            "|             Su�de|40,70|42,40|43,90|44,70|47,90|47,00|   48,20|50,20|50,80|51,90|53,00|53,40|54,20|54,60|\n",
            "+------------------+-----+-----+-----+-----+-----+-----+--------+-----+-----+-----+-----+-----+-----+-----+\n",
            "\n"
          ]
        }
      ]
    },
    {
      "cell_type": "code",
      "source": [
        "df.count()"
      ],
      "metadata": {
        "colab": {
          "base_uri": "https://localhost:8080/"
        },
        "id": "Rf84ontDpYYz",
        "outputId": "60625d25-606d-4d28-e223-2fc2032ef24a"
      },
      "execution_count": 22,
      "outputs": [
        {
          "output_type": "execute_result",
          "data": {
            "text/plain": [
              "28"
            ]
          },
          "metadata": {},
          "execution_count": 22
        }
      ]
    },
    {
      "cell_type": "code",
      "source": [
        "len(df.columns)"
      ],
      "metadata": {
        "colab": {
          "base_uri": "https://localhost:8080/"
        },
        "id": "E-Nx_yKJpygY",
        "outputId": "c101ee17-d834-423b-cc70-c4198da37757"
      },
      "execution_count": 24,
      "outputs": [
        {
          "output_type": "execute_result",
          "data": {
            "text/plain": [
              "15"
            ]
          },
          "metadata": {},
          "execution_count": 24
        }
      ]
    },
    {
      "cell_type": "code",
      "source": [
        "df.take()"
      ],
      "metadata": {
        "id": "heY1TKK-qUsQ"
      },
      "execution_count": null,
      "outputs": []
    },
    {
      "cell_type": "code",
      "source": [
        "df.take(2)"
      ],
      "metadata": {
        "colab": {
          "base_uri": "https://localhost:8080/"
        },
        "id": "JOdVWtEOqhOX",
        "outputId": "51dd68d1-06e5-46a6-a0c6-256d8731d9f5"
      },
      "execution_count": 25,
      "outputs": [
        {
          "output_type": "execute_result",
          "data": {
            "text/plain": [
              "[Row(Pays='Allemagne', 2005='7,20', 2006='8,50', 2007='10,10', 2008='10,10', 2009='10,90', 2010='11,70', 2011='12,50', 2012='13,60', 2013='13,80', 2014='14,40', 2015='14,90', 2016='14,90', 2017='15,50', 2018='16,50'),\n",
              " Row(Pays='Autriche', 2005='24,40', 2006='26,30', 2007='28,20', 2008='28,90', 2009='31,00', 2010='31,20', 2011='31,60', 2012='32,70', 2013='32,80', 2014='33,70', 2015='33,50', 2016='33,40', 2017='33,10', 2018='33,40')]"
            ]
          },
          "metadata": {},
          "execution_count": 25
        }
      ]
    },
    {
      "cell_type": "code",
      "source": [
        "df.collect()"
      ],
      "metadata": {
        "colab": {
          "base_uri": "https://localhost:8080/"
        },
        "id": "5yQuqpb8rA72",
        "outputId": "c20caff0-d06a-4a6d-875e-6333c39d8f40"
      },
      "execution_count": 27,
      "outputs": [
        {
          "output_type": "execute_result",
          "data": {
            "text/plain": [
              "[Row(Pays='Allemagne', 2005='7,20', 2006='8,50', 2007='10,10', 2008='10,10', 2009='10,90', 2010='11,70', 2011='12,50', 2012='13,60', 2013='13,80', 2014='14,40', 2015='14,90', 2016='14,90', 2017='15,50', 2018='16,50'),\n",
              " Row(Pays='Autriche', 2005='24,40', 2006='26,30', 2007='28,20', 2008='28,90', 2009='31,00', 2010='31,20', 2011='31,60', 2012='32,70', 2013='32,80', 2014='33,70', 2015='33,50', 2016='33,40', 2017='33,10', 2018='33,40'),\n",
              " Row(Pays='Belgique', 2005='2,30', 2006='2,60', 2007='3,10', 2008='3,60', 2009='4,70', 2010='5,60', 2011='6,30', 2012='7,20', 2013='7,50', 2014='8,00', 2015='8,00', 2016='8,70', 2017='9,10', 2018='9,40'),\n",
              " Row(Pays='Bulgarie', 2005='9,20', 2006='9,40', 2007='9,10', 2008='10,30', 2009='12,00', 2010='13,90', 2011='14,20', 2012='15,80', 2013='18,90', 2014='18,10', 2015='18,30', 2016='18,80', 2017='18,70', 2018='20,50'),\n",
              " Row(Pays='Chypre', 2005='3,10', 2006='3,30', 2007='4,00', 2008='5,10', 2009='5,90', 2010='6,20', 2011='6,30', 2012='7,10', 2013='8,50', 2014='9,20', 2015='9,90', 2016='9,90', 2017='10,50', 2018='13,90'),\n",
              " Row(Pays='Croatie', 2005='23,70', 2006='22,70', 2007='22,20', 2008='22,00', 2009='23,60', 2010='25,10', 2011='25,40', 2012='26,80', 2013='28,00', 2014='27,80', 2015='29,00', 2016='28,30', 2017='27,30', 2018='28,00'),\n",
              " Row(Pays='Danemark', 2005='16,00', 2006='16,30', 2007='17,70', 2008='18,50', 2009='20,00', 2010='21,90', 2011='23,40', 2012='25,50', 2013='27,20', 2014='29,30', 2015='30,80', 2016='31,80', 2017='34,70', 2018='35,70'),\n",
              " Row(Pays='Espagne', 2005='8,40', 2006='9,10', 2007='9,70', 2008='10,70', 2009='13,00', 2010='13,80', 2011='13,20', 2012='14,30', 2013='15,30', 2014='16,10', 2015='16,20', 2016='17,40', 2017='17,60', 2018='17,50'),\n",
              " Row(Pays='Estonie', 2005='17,40', 2006='16,00', 2007='17,00', 2008='18,60', 2009='22,90', 2010='24,60', 2011='25,30', 2012='25,50', 2013='25,30', 2014='26,10', 2015='28,20', 2016='28,70', 2017='29,10', 2018='30,00'),\n",
              " Row(Pays='Finlande', 2005='28,80', 2006='30,10', 2007='29,60', 2008='31,40', 2009='31,30', 2010='32,40', 2011='32,80', 2012='34,40', 2013='36,70', 2014='38,80', 2015='39,30', 2016='39,00', 2017='40,90', 2018='41,20'),\n",
              " Row(Pays='France', 2005='9,60', 2006='9,30', 2007='10,20', 2008='11,20', 2009='12,20', 2010='12,70', 2011='(1) 12,7', 2012='13,40', 2013='14,00', 2014='14,60', 2015='15,00', 2016='15,70', 2017='16,00', 2018='16,60'),\n",
              " Row(Pays='Gr�ce', 2005='7,30', 2006='7,50', 2007='8,20', 2008='8,20', 2009='8,70', 2010='10,10', 2011='11,20', 2012='13,70', 2013='15,30', 2014='15,70', 2015='15,70', 2016='15,40', 2017='17,00', 2018='18,00'),\n",
              " Row(Pays='Hongrie', 2005='6,90', 2006='7,40', 2007='8,60', 2008='8,60', 2009='11,70', 2010='12,70', 2011='14,00', 2012='15,50', 2013='16,20', 2014='14,60', 2015='14,50', 2016='14,30', 2017='13,50', 2018='12,50'),\n",
              " Row(Pays='Irlande', 2005='2,80', 2006='3,00', 2007='3,50', 2008='3,90', 2009='5,20', 2010='5,70', 2011='6,60', 2012='7,10', 2013='7,60', 2014='8,60', 2015='9,10', 2016='9,30', 2017='10,60', 2018='11,10'),\n",
              " Row(Pays='Italie', 2005='7,50', 2006='8,30', 2007='9,80', 2008='11,50', 2009='12,80', 2010='13,00', 2011='12,90', 2012='15,40', 2013='16,70', 2014='17,10', 2015='17,50', 2016='17,40', 2017='18,30', 2018='17,80'),\n",
              " Row(Pays='Lettonie', 2005='32,30', 2006='31,10', 2007='29,60', 2008='29,80', 2009='34,30', 2010='30,40', 2011='33,50', 2012='35,70', 2013='37,00', 2014='38,60', 2015='37,50', 2016='37,10', 2017='39,00', 2018='40,30'),\n",
              " Row(Pays='Lituanie', 2005='16,80', 2006='16,90', 2007='16,50', 2008='17,80', 2009='19,80', 2010='19,60', 2011='19,90', 2012='21,40', 2013='22,70', 2014='23,60', 2015='25,80', 2016='25,60', 2017='26,00', 2018='24,40'),\n",
              " Row(Pays='Luxembourg', 2005='1,40', 2006='1,50', 2007='2,70', 2008='2,80', 2009='2,90', 2010='2,90', 2011='2,90', 2012='3,10', 2013='3,50', 2014='4,50', 2015='5,10', 2016='5,40', 2017='6,30', 2018='9,10'),\n",
              " Row(Pays='Malte', 2005='0,10', 2006='0,10', 2007='0,20', 2008='0,20', 2009='0,20', 2010='1,00', 2011='1,90', 2012='2,90', 2013='3,80', 2014='4,70', 2015='5,10', 2016='6,20', 2017='7,30', 2018='8,00'),\n",
              " Row(Pays='Pays-Bas', 2005='2,50', 2006='2,80', 2007='3,30', 2008='3,60', 2009='4,30', 2010='3,90', 2011='4,50', 2012='4,70', 2013='4,70', 2014='5,40', 2015='5,70', 2016='5,80', 2017='6,50', 2018='7,40'),\n",
              " Row(Pays='Pologne', 2005='6,90', 2006='6,90', 2007='6,90', 2008='7,70', 2009='8,70', 2010='9,30', 2011='10,30', 2012='10,90', 2013='11,40', 2014='11,50', 2015='11,70', 2016='11,30', 2017='11,00', 2018='11,30'),\n",
              " Row(Pays='Portugal', 2005='19,50', 2006='20,80', 2007='21,90', 2008='22,90', 2009='24,40', 2010='24,20', 2011='24,60', 2012='24,60', 2013='25,70', 2014='29,50', 2015='30,50', 2016='30,90', 2017='30,60', 2018='30,30'),\n",
              " Row(Pays='R�publique tch�que', 2005='7,10', 2006='7,40', 2007='7,90', 2008='8,70', 2009='10,00', 2010='10,50', 2011='10,90', 2012='12,80', 2013='13,90', 2014='15,10', 2015='15,10', 2016='14,90', 2017='14,80', 2018='15,20'),\n",
              " Row(Pays='Roumanie', 2005='17,60', 2006='17,10', 2007='18,20', 2008='20,20', 2009='22,20', 2010='22,80', 2011='21,20', 2012='22,80', 2013='23,90', 2014='24,80', 2015='24,80', 2016='25,00', 2017='24,50', 2018='23,90'),\n",
              " Row(Pays='Royaume-Uni', 2005='1,10', 2006='1,30', 2007='1,60', 2008='2,70', 2009='3,30', 2010='3,80', 2011='4,30', 2012='4,40', 2013='5,50', 2014='6,70', 2015='8,30', 2016='9,00', 2017='9,70', 2018='11,00'),\n",
              " Row(Pays='Slovaquie', 2005='6,40', 2006='6,60', 2007='7,80', 2008='7,70', 2009='9,40', 2010='9,10', 2011='10,30', 2012='10,50', 2013='10,10', 2014='11,70', 2015='12,90', 2016='12,00', 2017='11,50', 2018='11,90'),\n",
              " Row(Pays='Slov�nie', 2005='16,00', 2006='15,60', 2007='15,60', 2008='15,00', 2009='20,10', 2010='20,40', 2011='20,30', 2012='20,80', 2013='22,40', 2014='21,50', 2015='21,90', 2016='21,30', 2017='21,10', 2018='21,10'),\n",
              " Row(Pays='Su�de', 2005='40,70', 2006='42,40', 2007='43,90', 2008='44,70', 2009='47,90', 2010='47,00', 2011='48,20', 2012='50,20', 2013='50,80', 2014='51,90', 2015='53,00', 2016='53,40', 2017='54,20', 2018='54,60')]"
            ]
          },
          "metadata": {},
          "execution_count": 27
        }
      ]
    },
    {
      "cell_type": "code",
      "source": [
        "df.toPandas()#affiche le datframe Pandas"
      ],
      "metadata": {
        "colab": {
          "base_uri": "https://localhost:8080/",
          "height": 927
        },
        "id": "u1GsdRWxrIzp",
        "outputId": "efaa162e-e479-48f3-e843-c3e6cd6c148f"
      },
      "execution_count": 28,
      "outputs": [
        {
          "output_type": "execute_result",
          "data": {
            "text/plain": [
              "                  Pays   2005   2006   2007   2008   2009   2010      2011  \\\n",
              "0            Allemagne   7,20   8,50  10,10  10,10  10,90  11,70     12,50   \n",
              "1             Autriche  24,40  26,30  28,20  28,90  31,00  31,20     31,60   \n",
              "2             Belgique   2,30   2,60   3,10   3,60   4,70   5,60      6,30   \n",
              "3             Bulgarie   9,20   9,40   9,10  10,30  12,00  13,90     14,20   \n",
              "4               Chypre   3,10   3,30   4,00   5,10   5,90   6,20      6,30   \n",
              "5              Croatie  23,70  22,70  22,20  22,00  23,60  25,10     25,40   \n",
              "6             Danemark  16,00  16,30  17,70  18,50  20,00  21,90     23,40   \n",
              "7              Espagne   8,40   9,10   9,70  10,70  13,00  13,80     13,20   \n",
              "8              Estonie  17,40  16,00  17,00  18,60  22,90  24,60     25,30   \n",
              "9             Finlande  28,80  30,10  29,60  31,40  31,30  32,40     32,80   \n",
              "10              France   9,60   9,30  10,20  11,20  12,20  12,70  (1) 12,7   \n",
              "11               Gr�ce   7,30   7,50   8,20   8,20   8,70  10,10     11,20   \n",
              "12             Hongrie   6,90   7,40   8,60   8,60  11,70  12,70     14,00   \n",
              "13             Irlande   2,80   3,00   3,50   3,90   5,20   5,70      6,60   \n",
              "14              Italie   7,50   8,30   9,80  11,50  12,80  13,00     12,90   \n",
              "15            Lettonie  32,30  31,10  29,60  29,80  34,30  30,40     33,50   \n",
              "16            Lituanie  16,80  16,90  16,50  17,80  19,80  19,60     19,90   \n",
              "17          Luxembourg   1,40   1,50   2,70   2,80   2,90   2,90      2,90   \n",
              "18               Malte   0,10   0,10   0,20   0,20   0,20   1,00      1,90   \n",
              "19            Pays-Bas   2,50   2,80   3,30   3,60   4,30   3,90      4,50   \n",
              "20             Pologne   6,90   6,90   6,90   7,70   8,70   9,30     10,30   \n",
              "21            Portugal  19,50  20,80  21,90  22,90  24,40  24,20     24,60   \n",
              "22  R�publique tch�que   7,10   7,40   7,90   8,70  10,00  10,50     10,90   \n",
              "23            Roumanie  17,60  17,10  18,20  20,20  22,20  22,80     21,20   \n",
              "24         Royaume-Uni   1,10   1,30   1,60   2,70   3,30   3,80      4,30   \n",
              "25           Slovaquie   6,40   6,60   7,80   7,70   9,40   9,10     10,30   \n",
              "26            Slov�nie  16,00  15,60  15,60  15,00  20,10  20,40     20,30   \n",
              "27               Su�de  40,70  42,40  43,90  44,70  47,90  47,00     48,20   \n",
              "\n",
              "     2012   2013   2014   2015   2016   2017   2018  \n",
              "0   13,60  13,80  14,40  14,90  14,90  15,50  16,50  \n",
              "1   32,70  32,80  33,70  33,50  33,40  33,10  33,40  \n",
              "2    7,20   7,50   8,00   8,00   8,70   9,10   9,40  \n",
              "3   15,80  18,90  18,10  18,30  18,80  18,70  20,50  \n",
              "4    7,10   8,50   9,20   9,90   9,90  10,50  13,90  \n",
              "5   26,80  28,00  27,80  29,00  28,30  27,30  28,00  \n",
              "6   25,50  27,20  29,30  30,80  31,80  34,70  35,70  \n",
              "7   14,30  15,30  16,10  16,20  17,40  17,60  17,50  \n",
              "8   25,50  25,30  26,10  28,20  28,70  29,10  30,00  \n",
              "9   34,40  36,70  38,80  39,30  39,00  40,90  41,20  \n",
              "10  13,40  14,00  14,60  15,00  15,70  16,00  16,60  \n",
              "11  13,70  15,30  15,70  15,70  15,40  17,00  18,00  \n",
              "12  15,50  16,20  14,60  14,50  14,30  13,50  12,50  \n",
              "13   7,10   7,60   8,60   9,10   9,30  10,60  11,10  \n",
              "14  15,40  16,70  17,10  17,50  17,40  18,30  17,80  \n",
              "15  35,70  37,00  38,60  37,50  37,10  39,00  40,30  \n",
              "16  21,40  22,70  23,60  25,80  25,60  26,00  24,40  \n",
              "17   3,10   3,50   4,50   5,10   5,40   6,30   9,10  \n",
              "18   2,90   3,80   4,70   5,10   6,20   7,30   8,00  \n",
              "19   4,70   4,70   5,40   5,70   5,80   6,50   7,40  \n",
              "20  10,90  11,40  11,50  11,70  11,30  11,00  11,30  \n",
              "21  24,60  25,70  29,50  30,50  30,90  30,60  30,30  \n",
              "22  12,80  13,90  15,10  15,10  14,90  14,80  15,20  \n",
              "23  22,80  23,90  24,80  24,80  25,00  24,50  23,90  \n",
              "24   4,40   5,50   6,70   8,30   9,00   9,70  11,00  \n",
              "25  10,50  10,10  11,70  12,90  12,00  11,50  11,90  \n",
              "26  20,80  22,40  21,50  21,90  21,30  21,10  21,10  \n",
              "27  50,20  50,80  51,90  53,00  53,40  54,20  54,60  "
            ],
            "text/html": [
              "\n",
              "  <div id=\"df-24df57bb-e727-49ac-8290-bf7ee259341b\" class=\"colab-df-container\">\n",
              "    <div>\n",
              "<style scoped>\n",
              "    .dataframe tbody tr th:only-of-type {\n",
              "        vertical-align: middle;\n",
              "    }\n",
              "\n",
              "    .dataframe tbody tr th {\n",
              "        vertical-align: top;\n",
              "    }\n",
              "\n",
              "    .dataframe thead th {\n",
              "        text-align: right;\n",
              "    }\n",
              "</style>\n",
              "<table border=\"1\" class=\"dataframe\">\n",
              "  <thead>\n",
              "    <tr style=\"text-align: right;\">\n",
              "      <th></th>\n",
              "      <th>Pays</th>\n",
              "      <th>2005</th>\n",
              "      <th>2006</th>\n",
              "      <th>2007</th>\n",
              "      <th>2008</th>\n",
              "      <th>2009</th>\n",
              "      <th>2010</th>\n",
              "      <th>2011</th>\n",
              "      <th>2012</th>\n",
              "      <th>2013</th>\n",
              "      <th>2014</th>\n",
              "      <th>2015</th>\n",
              "      <th>2016</th>\n",
              "      <th>2017</th>\n",
              "      <th>2018</th>\n",
              "    </tr>\n",
              "  </thead>\n",
              "  <tbody>\n",
              "    <tr>\n",
              "      <th>0</th>\n",
              "      <td>Allemagne</td>\n",
              "      <td>7,20</td>\n",
              "      <td>8,50</td>\n",
              "      <td>10,10</td>\n",
              "      <td>10,10</td>\n",
              "      <td>10,90</td>\n",
              "      <td>11,70</td>\n",
              "      <td>12,50</td>\n",
              "      <td>13,60</td>\n",
              "      <td>13,80</td>\n",
              "      <td>14,40</td>\n",
              "      <td>14,90</td>\n",
              "      <td>14,90</td>\n",
              "      <td>15,50</td>\n",
              "      <td>16,50</td>\n",
              "    </tr>\n",
              "    <tr>\n",
              "      <th>1</th>\n",
              "      <td>Autriche</td>\n",
              "      <td>24,40</td>\n",
              "      <td>26,30</td>\n",
              "      <td>28,20</td>\n",
              "      <td>28,90</td>\n",
              "      <td>31,00</td>\n",
              "      <td>31,20</td>\n",
              "      <td>31,60</td>\n",
              "      <td>32,70</td>\n",
              "      <td>32,80</td>\n",
              "      <td>33,70</td>\n",
              "      <td>33,50</td>\n",
              "      <td>33,40</td>\n",
              "      <td>33,10</td>\n",
              "      <td>33,40</td>\n",
              "    </tr>\n",
              "    <tr>\n",
              "      <th>2</th>\n",
              "      <td>Belgique</td>\n",
              "      <td>2,30</td>\n",
              "      <td>2,60</td>\n",
              "      <td>3,10</td>\n",
              "      <td>3,60</td>\n",
              "      <td>4,70</td>\n",
              "      <td>5,60</td>\n",
              "      <td>6,30</td>\n",
              "      <td>7,20</td>\n",
              "      <td>7,50</td>\n",
              "      <td>8,00</td>\n",
              "      <td>8,00</td>\n",
              "      <td>8,70</td>\n",
              "      <td>9,10</td>\n",
              "      <td>9,40</td>\n",
              "    </tr>\n",
              "    <tr>\n",
              "      <th>3</th>\n",
              "      <td>Bulgarie</td>\n",
              "      <td>9,20</td>\n",
              "      <td>9,40</td>\n",
              "      <td>9,10</td>\n",
              "      <td>10,30</td>\n",
              "      <td>12,00</td>\n",
              "      <td>13,90</td>\n",
              "      <td>14,20</td>\n",
              "      <td>15,80</td>\n",
              "      <td>18,90</td>\n",
              "      <td>18,10</td>\n",
              "      <td>18,30</td>\n",
              "      <td>18,80</td>\n",
              "      <td>18,70</td>\n",
              "      <td>20,50</td>\n",
              "    </tr>\n",
              "    <tr>\n",
              "      <th>4</th>\n",
              "      <td>Chypre</td>\n",
              "      <td>3,10</td>\n",
              "      <td>3,30</td>\n",
              "      <td>4,00</td>\n",
              "      <td>5,10</td>\n",
              "      <td>5,90</td>\n",
              "      <td>6,20</td>\n",
              "      <td>6,30</td>\n",
              "      <td>7,10</td>\n",
              "      <td>8,50</td>\n",
              "      <td>9,20</td>\n",
              "      <td>9,90</td>\n",
              "      <td>9,90</td>\n",
              "      <td>10,50</td>\n",
              "      <td>13,90</td>\n",
              "    </tr>\n",
              "    <tr>\n",
              "      <th>5</th>\n",
              "      <td>Croatie</td>\n",
              "      <td>23,70</td>\n",
              "      <td>22,70</td>\n",
              "      <td>22,20</td>\n",
              "      <td>22,00</td>\n",
              "      <td>23,60</td>\n",
              "      <td>25,10</td>\n",
              "      <td>25,40</td>\n",
              "      <td>26,80</td>\n",
              "      <td>28,00</td>\n",
              "      <td>27,80</td>\n",
              "      <td>29,00</td>\n",
              "      <td>28,30</td>\n",
              "      <td>27,30</td>\n",
              "      <td>28,00</td>\n",
              "    </tr>\n",
              "    <tr>\n",
              "      <th>6</th>\n",
              "      <td>Danemark</td>\n",
              "      <td>16,00</td>\n",
              "      <td>16,30</td>\n",
              "      <td>17,70</td>\n",
              "      <td>18,50</td>\n",
              "      <td>20,00</td>\n",
              "      <td>21,90</td>\n",
              "      <td>23,40</td>\n",
              "      <td>25,50</td>\n",
              "      <td>27,20</td>\n",
              "      <td>29,30</td>\n",
              "      <td>30,80</td>\n",
              "      <td>31,80</td>\n",
              "      <td>34,70</td>\n",
              "      <td>35,70</td>\n",
              "    </tr>\n",
              "    <tr>\n",
              "      <th>7</th>\n",
              "      <td>Espagne</td>\n",
              "      <td>8,40</td>\n",
              "      <td>9,10</td>\n",
              "      <td>9,70</td>\n",
              "      <td>10,70</td>\n",
              "      <td>13,00</td>\n",
              "      <td>13,80</td>\n",
              "      <td>13,20</td>\n",
              "      <td>14,30</td>\n",
              "      <td>15,30</td>\n",
              "      <td>16,10</td>\n",
              "      <td>16,20</td>\n",
              "      <td>17,40</td>\n",
              "      <td>17,60</td>\n",
              "      <td>17,50</td>\n",
              "    </tr>\n",
              "    <tr>\n",
              "      <th>8</th>\n",
              "      <td>Estonie</td>\n",
              "      <td>17,40</td>\n",
              "      <td>16,00</td>\n",
              "      <td>17,00</td>\n",
              "      <td>18,60</td>\n",
              "      <td>22,90</td>\n",
              "      <td>24,60</td>\n",
              "      <td>25,30</td>\n",
              "      <td>25,50</td>\n",
              "      <td>25,30</td>\n",
              "      <td>26,10</td>\n",
              "      <td>28,20</td>\n",
              "      <td>28,70</td>\n",
              "      <td>29,10</td>\n",
              "      <td>30,00</td>\n",
              "    </tr>\n",
              "    <tr>\n",
              "      <th>9</th>\n",
              "      <td>Finlande</td>\n",
              "      <td>28,80</td>\n",
              "      <td>30,10</td>\n",
              "      <td>29,60</td>\n",
              "      <td>31,40</td>\n",
              "      <td>31,30</td>\n",
              "      <td>32,40</td>\n",
              "      <td>32,80</td>\n",
              "      <td>34,40</td>\n",
              "      <td>36,70</td>\n",
              "      <td>38,80</td>\n",
              "      <td>39,30</td>\n",
              "      <td>39,00</td>\n",
              "      <td>40,90</td>\n",
              "      <td>41,20</td>\n",
              "    </tr>\n",
              "    <tr>\n",
              "      <th>10</th>\n",
              "      <td>France</td>\n",
              "      <td>9,60</td>\n",
              "      <td>9,30</td>\n",
              "      <td>10,20</td>\n",
              "      <td>11,20</td>\n",
              "      <td>12,20</td>\n",
              "      <td>12,70</td>\n",
              "      <td>(1) 12,7</td>\n",
              "      <td>13,40</td>\n",
              "      <td>14,00</td>\n",
              "      <td>14,60</td>\n",
              "      <td>15,00</td>\n",
              "      <td>15,70</td>\n",
              "      <td>16,00</td>\n",
              "      <td>16,60</td>\n",
              "    </tr>\n",
              "    <tr>\n",
              "      <th>11</th>\n",
              "      <td>Gr�ce</td>\n",
              "      <td>7,30</td>\n",
              "      <td>7,50</td>\n",
              "      <td>8,20</td>\n",
              "      <td>8,20</td>\n",
              "      <td>8,70</td>\n",
              "      <td>10,10</td>\n",
              "      <td>11,20</td>\n",
              "      <td>13,70</td>\n",
              "      <td>15,30</td>\n",
              "      <td>15,70</td>\n",
              "      <td>15,70</td>\n",
              "      <td>15,40</td>\n",
              "      <td>17,00</td>\n",
              "      <td>18,00</td>\n",
              "    </tr>\n",
              "    <tr>\n",
              "      <th>12</th>\n",
              "      <td>Hongrie</td>\n",
              "      <td>6,90</td>\n",
              "      <td>7,40</td>\n",
              "      <td>8,60</td>\n",
              "      <td>8,60</td>\n",
              "      <td>11,70</td>\n",
              "      <td>12,70</td>\n",
              "      <td>14,00</td>\n",
              "      <td>15,50</td>\n",
              "      <td>16,20</td>\n",
              "      <td>14,60</td>\n",
              "      <td>14,50</td>\n",
              "      <td>14,30</td>\n",
              "      <td>13,50</td>\n",
              "      <td>12,50</td>\n",
              "    </tr>\n",
              "    <tr>\n",
              "      <th>13</th>\n",
              "      <td>Irlande</td>\n",
              "      <td>2,80</td>\n",
              "      <td>3,00</td>\n",
              "      <td>3,50</td>\n",
              "      <td>3,90</td>\n",
              "      <td>5,20</td>\n",
              "      <td>5,70</td>\n",
              "      <td>6,60</td>\n",
              "      <td>7,10</td>\n",
              "      <td>7,60</td>\n",
              "      <td>8,60</td>\n",
              "      <td>9,10</td>\n",
              "      <td>9,30</td>\n",
              "      <td>10,60</td>\n",
              "      <td>11,10</td>\n",
              "    </tr>\n",
              "    <tr>\n",
              "      <th>14</th>\n",
              "      <td>Italie</td>\n",
              "      <td>7,50</td>\n",
              "      <td>8,30</td>\n",
              "      <td>9,80</td>\n",
              "      <td>11,50</td>\n",
              "      <td>12,80</td>\n",
              "      <td>13,00</td>\n",
              "      <td>12,90</td>\n",
              "      <td>15,40</td>\n",
              "      <td>16,70</td>\n",
              "      <td>17,10</td>\n",
              "      <td>17,50</td>\n",
              "      <td>17,40</td>\n",
              "      <td>18,30</td>\n",
              "      <td>17,80</td>\n",
              "    </tr>\n",
              "    <tr>\n",
              "      <th>15</th>\n",
              "      <td>Lettonie</td>\n",
              "      <td>32,30</td>\n",
              "      <td>31,10</td>\n",
              "      <td>29,60</td>\n",
              "      <td>29,80</td>\n",
              "      <td>34,30</td>\n",
              "      <td>30,40</td>\n",
              "      <td>33,50</td>\n",
              "      <td>35,70</td>\n",
              "      <td>37,00</td>\n",
              "      <td>38,60</td>\n",
              "      <td>37,50</td>\n",
              "      <td>37,10</td>\n",
              "      <td>39,00</td>\n",
              "      <td>40,30</td>\n",
              "    </tr>\n",
              "    <tr>\n",
              "      <th>16</th>\n",
              "      <td>Lituanie</td>\n",
              "      <td>16,80</td>\n",
              "      <td>16,90</td>\n",
              "      <td>16,50</td>\n",
              "      <td>17,80</td>\n",
              "      <td>19,80</td>\n",
              "      <td>19,60</td>\n",
              "      <td>19,90</td>\n",
              "      <td>21,40</td>\n",
              "      <td>22,70</td>\n",
              "      <td>23,60</td>\n",
              "      <td>25,80</td>\n",
              "      <td>25,60</td>\n",
              "      <td>26,00</td>\n",
              "      <td>24,40</td>\n",
              "    </tr>\n",
              "    <tr>\n",
              "      <th>17</th>\n",
              "      <td>Luxembourg</td>\n",
              "      <td>1,40</td>\n",
              "      <td>1,50</td>\n",
              "      <td>2,70</td>\n",
              "      <td>2,80</td>\n",
              "      <td>2,90</td>\n",
              "      <td>2,90</td>\n",
              "      <td>2,90</td>\n",
              "      <td>3,10</td>\n",
              "      <td>3,50</td>\n",
              "      <td>4,50</td>\n",
              "      <td>5,10</td>\n",
              "      <td>5,40</td>\n",
              "      <td>6,30</td>\n",
              "      <td>9,10</td>\n",
              "    </tr>\n",
              "    <tr>\n",
              "      <th>18</th>\n",
              "      <td>Malte</td>\n",
              "      <td>0,10</td>\n",
              "      <td>0,10</td>\n",
              "      <td>0,20</td>\n",
              "      <td>0,20</td>\n",
              "      <td>0,20</td>\n",
              "      <td>1,00</td>\n",
              "      <td>1,90</td>\n",
              "      <td>2,90</td>\n",
              "      <td>3,80</td>\n",
              "      <td>4,70</td>\n",
              "      <td>5,10</td>\n",
              "      <td>6,20</td>\n",
              "      <td>7,30</td>\n",
              "      <td>8,00</td>\n",
              "    </tr>\n",
              "    <tr>\n",
              "      <th>19</th>\n",
              "      <td>Pays-Bas</td>\n",
              "      <td>2,50</td>\n",
              "      <td>2,80</td>\n",
              "      <td>3,30</td>\n",
              "      <td>3,60</td>\n",
              "      <td>4,30</td>\n",
              "      <td>3,90</td>\n",
              "      <td>4,50</td>\n",
              "      <td>4,70</td>\n",
              "      <td>4,70</td>\n",
              "      <td>5,40</td>\n",
              "      <td>5,70</td>\n",
              "      <td>5,80</td>\n",
              "      <td>6,50</td>\n",
              "      <td>7,40</td>\n",
              "    </tr>\n",
              "    <tr>\n",
              "      <th>20</th>\n",
              "      <td>Pologne</td>\n",
              "      <td>6,90</td>\n",
              "      <td>6,90</td>\n",
              "      <td>6,90</td>\n",
              "      <td>7,70</td>\n",
              "      <td>8,70</td>\n",
              "      <td>9,30</td>\n",
              "      <td>10,30</td>\n",
              "      <td>10,90</td>\n",
              "      <td>11,40</td>\n",
              "      <td>11,50</td>\n",
              "      <td>11,70</td>\n",
              "      <td>11,30</td>\n",
              "      <td>11,00</td>\n",
              "      <td>11,30</td>\n",
              "    </tr>\n",
              "    <tr>\n",
              "      <th>21</th>\n",
              "      <td>Portugal</td>\n",
              "      <td>19,50</td>\n",
              "      <td>20,80</td>\n",
              "      <td>21,90</td>\n",
              "      <td>22,90</td>\n",
              "      <td>24,40</td>\n",
              "      <td>24,20</td>\n",
              "      <td>24,60</td>\n",
              "      <td>24,60</td>\n",
              "      <td>25,70</td>\n",
              "      <td>29,50</td>\n",
              "      <td>30,50</td>\n",
              "      <td>30,90</td>\n",
              "      <td>30,60</td>\n",
              "      <td>30,30</td>\n",
              "    </tr>\n",
              "    <tr>\n",
              "      <th>22</th>\n",
              "      <td>R�publique tch�que</td>\n",
              "      <td>7,10</td>\n",
              "      <td>7,40</td>\n",
              "      <td>7,90</td>\n",
              "      <td>8,70</td>\n",
              "      <td>10,00</td>\n",
              "      <td>10,50</td>\n",
              "      <td>10,90</td>\n",
              "      <td>12,80</td>\n",
              "      <td>13,90</td>\n",
              "      <td>15,10</td>\n",
              "      <td>15,10</td>\n",
              "      <td>14,90</td>\n",
              "      <td>14,80</td>\n",
              "      <td>15,20</td>\n",
              "    </tr>\n",
              "    <tr>\n",
              "      <th>23</th>\n",
              "      <td>Roumanie</td>\n",
              "      <td>17,60</td>\n",
              "      <td>17,10</td>\n",
              "      <td>18,20</td>\n",
              "      <td>20,20</td>\n",
              "      <td>22,20</td>\n",
              "      <td>22,80</td>\n",
              "      <td>21,20</td>\n",
              "      <td>22,80</td>\n",
              "      <td>23,90</td>\n",
              "      <td>24,80</td>\n",
              "      <td>24,80</td>\n",
              "      <td>25,00</td>\n",
              "      <td>24,50</td>\n",
              "      <td>23,90</td>\n",
              "    </tr>\n",
              "    <tr>\n",
              "      <th>24</th>\n",
              "      <td>Royaume-Uni</td>\n",
              "      <td>1,10</td>\n",
              "      <td>1,30</td>\n",
              "      <td>1,60</td>\n",
              "      <td>2,70</td>\n",
              "      <td>3,30</td>\n",
              "      <td>3,80</td>\n",
              "      <td>4,30</td>\n",
              "      <td>4,40</td>\n",
              "      <td>5,50</td>\n",
              "      <td>6,70</td>\n",
              "      <td>8,30</td>\n",
              "      <td>9,00</td>\n",
              "      <td>9,70</td>\n",
              "      <td>11,00</td>\n",
              "    </tr>\n",
              "    <tr>\n",
              "      <th>25</th>\n",
              "      <td>Slovaquie</td>\n",
              "      <td>6,40</td>\n",
              "      <td>6,60</td>\n",
              "      <td>7,80</td>\n",
              "      <td>7,70</td>\n",
              "      <td>9,40</td>\n",
              "      <td>9,10</td>\n",
              "      <td>10,30</td>\n",
              "      <td>10,50</td>\n",
              "      <td>10,10</td>\n",
              "      <td>11,70</td>\n",
              "      <td>12,90</td>\n",
              "      <td>12,00</td>\n",
              "      <td>11,50</td>\n",
              "      <td>11,90</td>\n",
              "    </tr>\n",
              "    <tr>\n",
              "      <th>26</th>\n",
              "      <td>Slov�nie</td>\n",
              "      <td>16,00</td>\n",
              "      <td>15,60</td>\n",
              "      <td>15,60</td>\n",
              "      <td>15,00</td>\n",
              "      <td>20,10</td>\n",
              "      <td>20,40</td>\n",
              "      <td>20,30</td>\n",
              "      <td>20,80</td>\n",
              "      <td>22,40</td>\n",
              "      <td>21,50</td>\n",
              "      <td>21,90</td>\n",
              "      <td>21,30</td>\n",
              "      <td>21,10</td>\n",
              "      <td>21,10</td>\n",
              "    </tr>\n",
              "    <tr>\n",
              "      <th>27</th>\n",
              "      <td>Su�de</td>\n",
              "      <td>40,70</td>\n",
              "      <td>42,40</td>\n",
              "      <td>43,90</td>\n",
              "      <td>44,70</td>\n",
              "      <td>47,90</td>\n",
              "      <td>47,00</td>\n",
              "      <td>48,20</td>\n",
              "      <td>50,20</td>\n",
              "      <td>50,80</td>\n",
              "      <td>51,90</td>\n",
              "      <td>53,00</td>\n",
              "      <td>53,40</td>\n",
              "      <td>54,20</td>\n",
              "      <td>54,60</td>\n",
              "    </tr>\n",
              "  </tbody>\n",
              "</table>\n",
              "</div>\n",
              "    <div class=\"colab-df-buttons\">\n",
              "\n",
              "  <div class=\"colab-df-container\">\n",
              "    <button class=\"colab-df-convert\" onclick=\"convertToInteractive('df-24df57bb-e727-49ac-8290-bf7ee259341b')\"\n",
              "            title=\"Convert this dataframe to an interactive table.\"\n",
              "            style=\"display:none;\">\n",
              "\n",
              "  <svg xmlns=\"http://www.w3.org/2000/svg\" height=\"24px\" viewBox=\"0 -960 960 960\">\n",
              "    <path d=\"M120-120v-720h720v720H120Zm60-500h600v-160H180v160Zm220 220h160v-160H400v160Zm0 220h160v-160H400v160ZM180-400h160v-160H180v160Zm440 0h160v-160H620v160ZM180-180h160v-160H180v160Zm440 0h160v-160H620v160Z\"/>\n",
              "  </svg>\n",
              "    </button>\n",
              "\n",
              "  <style>\n",
              "    .colab-df-container {\n",
              "      display:flex;\n",
              "      gap: 12px;\n",
              "    }\n",
              "\n",
              "    .colab-df-convert {\n",
              "      background-color: #E8F0FE;\n",
              "      border: none;\n",
              "      border-radius: 50%;\n",
              "      cursor: pointer;\n",
              "      display: none;\n",
              "      fill: #1967D2;\n",
              "      height: 32px;\n",
              "      padding: 0 0 0 0;\n",
              "      width: 32px;\n",
              "    }\n",
              "\n",
              "    .colab-df-convert:hover {\n",
              "      background-color: #E2EBFA;\n",
              "      box-shadow: 0px 1px 2px rgba(60, 64, 67, 0.3), 0px 1px 3px 1px rgba(60, 64, 67, 0.15);\n",
              "      fill: #174EA6;\n",
              "    }\n",
              "\n",
              "    .colab-df-buttons div {\n",
              "      margin-bottom: 4px;\n",
              "    }\n",
              "\n",
              "    [theme=dark] .colab-df-convert {\n",
              "      background-color: #3B4455;\n",
              "      fill: #D2E3FC;\n",
              "    }\n",
              "\n",
              "    [theme=dark] .colab-df-convert:hover {\n",
              "      background-color: #434B5C;\n",
              "      box-shadow: 0px 1px 3px 1px rgba(0, 0, 0, 0.15);\n",
              "      filter: drop-shadow(0px 1px 2px rgba(0, 0, 0, 0.3));\n",
              "      fill: #FFFFFF;\n",
              "    }\n",
              "  </style>\n",
              "\n",
              "    <script>\n",
              "      const buttonEl =\n",
              "        document.querySelector('#df-24df57bb-e727-49ac-8290-bf7ee259341b button.colab-df-convert');\n",
              "      buttonEl.style.display =\n",
              "        google.colab.kernel.accessAllowed ? 'block' : 'none';\n",
              "\n",
              "      async function convertToInteractive(key) {\n",
              "        const element = document.querySelector('#df-24df57bb-e727-49ac-8290-bf7ee259341b');\n",
              "        const dataTable =\n",
              "          await google.colab.kernel.invokeFunction('convertToInteractive',\n",
              "                                                    [key], {});\n",
              "        if (!dataTable) return;\n",
              "\n",
              "        const docLinkHtml = 'Like what you see? Visit the ' +\n",
              "          '<a target=\"_blank\" href=https://colab.research.google.com/notebooks/data_table.ipynb>data table notebook</a>'\n",
              "          + ' to learn more about interactive tables.';\n",
              "        element.innerHTML = '';\n",
              "        dataTable['output_type'] = 'display_data';\n",
              "        await google.colab.output.renderOutput(dataTable, element);\n",
              "        const docLink = document.createElement('div');\n",
              "        docLink.innerHTML = docLinkHtml;\n",
              "        element.appendChild(docLink);\n",
              "      }\n",
              "    </script>\n",
              "  </div>\n",
              "\n",
              "\n",
              "<div id=\"df-fe8a9cfa-88eb-458d-98ac-9606e13ed754\">\n",
              "  <button class=\"colab-df-quickchart\" onclick=\"quickchart('df-fe8a9cfa-88eb-458d-98ac-9606e13ed754')\"\n",
              "            title=\"Suggest charts\"\n",
              "            style=\"display:none;\">\n",
              "\n",
              "<svg xmlns=\"http://www.w3.org/2000/svg\" height=\"24px\"viewBox=\"0 0 24 24\"\n",
              "     width=\"24px\">\n",
              "    <g>\n",
              "        <path d=\"M19 3H5c-1.1 0-2 .9-2 2v14c0 1.1.9 2 2 2h14c1.1 0 2-.9 2-2V5c0-1.1-.9-2-2-2zM9 17H7v-7h2v7zm4 0h-2V7h2v10zm4 0h-2v-4h2v4z\"/>\n",
              "    </g>\n",
              "</svg>\n",
              "  </button>\n",
              "\n",
              "<style>\n",
              "  .colab-df-quickchart {\n",
              "      --bg-color: #E8F0FE;\n",
              "      --fill-color: #1967D2;\n",
              "      --hover-bg-color: #E2EBFA;\n",
              "      --hover-fill-color: #174EA6;\n",
              "      --disabled-fill-color: #AAA;\n",
              "      --disabled-bg-color: #DDD;\n",
              "  }\n",
              "\n",
              "  [theme=dark] .colab-df-quickchart {\n",
              "      --bg-color: #3B4455;\n",
              "      --fill-color: #D2E3FC;\n",
              "      --hover-bg-color: #434B5C;\n",
              "      --hover-fill-color: #FFFFFF;\n",
              "      --disabled-bg-color: #3B4455;\n",
              "      --disabled-fill-color: #666;\n",
              "  }\n",
              "\n",
              "  .colab-df-quickchart {\n",
              "    background-color: var(--bg-color);\n",
              "    border: none;\n",
              "    border-radius: 50%;\n",
              "    cursor: pointer;\n",
              "    display: none;\n",
              "    fill: var(--fill-color);\n",
              "    height: 32px;\n",
              "    padding: 0;\n",
              "    width: 32px;\n",
              "  }\n",
              "\n",
              "  .colab-df-quickchart:hover {\n",
              "    background-color: var(--hover-bg-color);\n",
              "    box-shadow: 0 1px 2px rgba(60, 64, 67, 0.3), 0 1px 3px 1px rgba(60, 64, 67, 0.15);\n",
              "    fill: var(--button-hover-fill-color);\n",
              "  }\n",
              "\n",
              "  .colab-df-quickchart-complete:disabled,\n",
              "  .colab-df-quickchart-complete:disabled:hover {\n",
              "    background-color: var(--disabled-bg-color);\n",
              "    fill: var(--disabled-fill-color);\n",
              "    box-shadow: none;\n",
              "  }\n",
              "\n",
              "  .colab-df-spinner {\n",
              "    border: 2px solid var(--fill-color);\n",
              "    border-color: transparent;\n",
              "    border-bottom-color: var(--fill-color);\n",
              "    animation:\n",
              "      spin 1s steps(1) infinite;\n",
              "  }\n",
              "\n",
              "  @keyframes spin {\n",
              "    0% {\n",
              "      border-color: transparent;\n",
              "      border-bottom-color: var(--fill-color);\n",
              "      border-left-color: var(--fill-color);\n",
              "    }\n",
              "    20% {\n",
              "      border-color: transparent;\n",
              "      border-left-color: var(--fill-color);\n",
              "      border-top-color: var(--fill-color);\n",
              "    }\n",
              "    30% {\n",
              "      border-color: transparent;\n",
              "      border-left-color: var(--fill-color);\n",
              "      border-top-color: var(--fill-color);\n",
              "      border-right-color: var(--fill-color);\n",
              "    }\n",
              "    40% {\n",
              "      border-color: transparent;\n",
              "      border-right-color: var(--fill-color);\n",
              "      border-top-color: var(--fill-color);\n",
              "    }\n",
              "    60% {\n",
              "      border-color: transparent;\n",
              "      border-right-color: var(--fill-color);\n",
              "    }\n",
              "    80% {\n",
              "      border-color: transparent;\n",
              "      border-right-color: var(--fill-color);\n",
              "      border-bottom-color: var(--fill-color);\n",
              "    }\n",
              "    90% {\n",
              "      border-color: transparent;\n",
              "      border-bottom-color: var(--fill-color);\n",
              "    }\n",
              "  }\n",
              "</style>\n",
              "\n",
              "  <script>\n",
              "    async function quickchart(key) {\n",
              "      const quickchartButtonEl =\n",
              "        document.querySelector('#' + key + ' button');\n",
              "      quickchartButtonEl.disabled = true;  // To prevent multiple clicks.\n",
              "      quickchartButtonEl.classList.add('colab-df-spinner');\n",
              "      try {\n",
              "        const charts = await google.colab.kernel.invokeFunction(\n",
              "            'suggestCharts', [key], {});\n",
              "      } catch (error) {\n",
              "        console.error('Error during call to suggestCharts:', error);\n",
              "      }\n",
              "      quickchartButtonEl.classList.remove('colab-df-spinner');\n",
              "      quickchartButtonEl.classList.add('colab-df-quickchart-complete');\n",
              "    }\n",
              "    (() => {\n",
              "      let quickchartButtonEl =\n",
              "        document.querySelector('#df-fe8a9cfa-88eb-458d-98ac-9606e13ed754 button');\n",
              "      quickchartButtonEl.style.display =\n",
              "        google.colab.kernel.accessAllowed ? 'block' : 'none';\n",
              "    })();\n",
              "  </script>\n",
              "</div>\n",
              "    </div>\n",
              "  </div>\n"
            ],
            "application/vnd.google.colaboratory.intrinsic+json": {
              "type": "dataframe",
              "summary": "{\n  \"name\": \"df\",\n  \"rows\": 28,\n  \"fields\": [\n    {\n      \"column\": \"Pays\",\n      \"properties\": {\n        \"dtype\": \"string\",\n        \"num_unique_values\": 28,\n        \"samples\": [\n          \"Finlande\",\n          \"Slovaquie\",\n          \"Estonie\"\n        ],\n        \"semantic_type\": \"\",\n        \"description\": \"\"\n      }\n    },\n    {\n      \"column\": \"2005\",\n      \"properties\": {\n        \"dtype\": \"string\",\n        \"num_unique_values\": 26,\n        \"samples\": [\n          \"17,40\",\n          \"16,80\",\n          \"7,20\"\n        ],\n        \"semantic_type\": \"\",\n        \"description\": \"\"\n      }\n    },\n    {\n      \"column\": \"2006\",\n      \"properties\": {\n        \"dtype\": \"string\",\n        \"num_unique_values\": 27,\n        \"samples\": [\n          \"16,00\",\n          \"3,00\",\n          \"30,10\"\n        ],\n        \"semantic_type\": \"\",\n        \"description\": \"\"\n      }\n    },\n    {\n      \"column\": \"2007\",\n      \"properties\": {\n        \"dtype\": \"string\",\n        \"num_unique_values\": 27,\n        \"samples\": [\n          \"17,00\",\n          \"3,50\",\n          \"29,60\"\n        ],\n        \"semantic_type\": \"\",\n        \"description\": \"\"\n      }\n    },\n    {\n      \"column\": \"2008\",\n      \"properties\": {\n        \"dtype\": \"string\",\n        \"num_unique_values\": 26,\n        \"samples\": [\n          \"18,60\",\n          \"17,80\",\n          \"10,10\"\n        ],\n        \"semantic_type\": \"\",\n        \"description\": \"\"\n      }\n    },\n    {\n      \"column\": \"2009\",\n      \"properties\": {\n        \"dtype\": \"string\",\n        \"num_unique_values\": 27,\n        \"samples\": [\n          \"22,90\",\n          \"5,20\",\n          \"31,30\"\n        ],\n        \"semantic_type\": \"\",\n        \"description\": \"\"\n      }\n    },\n    {\n      \"column\": \"2010\",\n      \"properties\": {\n        \"dtype\": \"string\",\n        \"num_unique_values\": 27,\n        \"samples\": [\n          \"24,60\",\n          \"13,00\",\n          \"32,40\"\n        ],\n        \"semantic_type\": \"\",\n        \"description\": \"\"\n      }\n    },\n    {\n      \"column\": \"2011\",\n      \"properties\": {\n        \"dtype\": \"string\",\n        \"num_unique_values\": 26,\n        \"samples\": [\n          \"32,80\",\n          \"2,90\",\n          \"12,50\"\n        ],\n        \"semantic_type\": \"\",\n        \"description\": \"\"\n      }\n    },\n    {\n      \"column\": \"2012\",\n      \"properties\": {\n        \"dtype\": \"string\",\n        \"num_unique_values\": 26,\n        \"samples\": [\n          \"34,40\",\n          \"2,90\",\n          \"13,60\"\n        ],\n        \"semantic_type\": \"\",\n        \"description\": \"\"\n      }\n    },\n    {\n      \"column\": \"2013\",\n      \"properties\": {\n        \"dtype\": \"string\",\n        \"num_unique_values\": 27,\n        \"samples\": [\n          \"25,30\",\n          \"16,70\",\n          \"36,70\"\n        ],\n        \"semantic_type\": \"\",\n        \"description\": \"\"\n      }\n    },\n    {\n      \"column\": \"2014\",\n      \"properties\": {\n        \"dtype\": \"string\",\n        \"num_unique_values\": 27,\n        \"samples\": [\n          \"26,10\",\n          \"17,10\",\n          \"38,80\"\n        ],\n        \"semantic_type\": \"\",\n        \"description\": \"\"\n      }\n    },\n    {\n      \"column\": \"2015\",\n      \"properties\": {\n        \"dtype\": \"string\",\n        \"num_unique_values\": 27,\n        \"samples\": [\n          \"28,20\",\n          \"9,10\",\n          \"39,30\"\n        ],\n        \"semantic_type\": \"\",\n        \"description\": \"\"\n      }\n    },\n    {\n      \"column\": \"2016\",\n      \"properties\": {\n        \"dtype\": \"string\",\n        \"num_unique_values\": 26,\n        \"samples\": [\n          \"28,70\",\n          \"5,40\",\n          \"14,90\"\n        ],\n        \"semantic_type\": \"\",\n        \"description\": \"\"\n      }\n    },\n    {\n      \"column\": \"2017\",\n      \"properties\": {\n        \"dtype\": \"string\",\n        \"num_unique_values\": 28,\n        \"samples\": [\n          \"40,90\",\n          \"11,50\",\n          \"29,10\"\n        ],\n        \"semantic_type\": \"\",\n        \"description\": \"\"\n      }\n    },\n    {\n      \"column\": \"2018\",\n      \"properties\": {\n        \"dtype\": \"string\",\n        \"num_unique_values\": 28,\n        \"samples\": [\n          \"41,20\",\n          \"11,90\",\n          \"30,00\"\n        ],\n        \"semantic_type\": \"\",\n        \"description\": \"\"\n      }\n    }\n  ]\n}"
            }
          },
          "metadata": {},
          "execution_count": 28
        }
      ]
    },
    {
      "cell_type": "code",
      "source": [
        "df = spark.read.option(\"delimiter\" , \";\").csv(\"03_03_data.csv\", header=True)# recupere les donnees du csv\n",
        "df.show(10)"
      ],
      "metadata": {
        "colab": {
          "base_uri": "https://localhost:8080/"
        },
        "id": "p2nZ7vSlr4lJ",
        "outputId": "68ca581b-0609-4b48-9b2a-c81bc40c2235"
      },
      "execution_count": 29,
      "outputs": [
        {
          "output_type": "stream",
          "name": "stdout",
          "text": [
            "+---------+-----+-----+-----+-----+-----+-----+-----+-----+-----+-----+-----+-----+-----+-----+\n",
            "|     Pays| 2005| 2006| 2007| 2008| 2009| 2010| 2011| 2012| 2013| 2014| 2015| 2016| 2017| 2018|\n",
            "+---------+-----+-----+-----+-----+-----+-----+-----+-----+-----+-----+-----+-----+-----+-----+\n",
            "|Allemagne| 7,20| 8,50|10,10|10,10|10,90|11,70|12,50|13,60|13,80|14,40|14,90|14,90|15,50|16,50|\n",
            "| Autriche|24,40|26,30|28,20|28,90|31,00|31,20|31,60|32,70|32,80|33,70|33,50|33,40|33,10|33,40|\n",
            "| Belgique| 2,30| 2,60| 3,10| 3,60| 4,70| 5,60| 6,30| 7,20| 7,50| 8,00| 8,00| 8,70| 9,10| 9,40|\n",
            "| Bulgarie| 9,20| 9,40| 9,10|10,30|12,00|13,90|14,20|15,80|18,90|18,10|18,30|18,80|18,70|20,50|\n",
            "|   Chypre| 3,10| 3,30| 4,00| 5,10| 5,90| 6,20| 6,30| 7,10| 8,50| 9,20| 9,90| 9,90|10,50|13,90|\n",
            "|  Croatie|23,70|22,70|22,20|22,00|23,60|25,10|25,40|26,80|28,00|27,80|29,00|28,30|27,30|28,00|\n",
            "| Danemark|16,00|16,30|17,70|18,50|20,00|21,90|23,40|25,50|27,20|29,30|30,80|31,80|34,70|35,70|\n",
            "|  Espagne| 8,40| 9,10| 9,70|10,70|13,00|13,80|13,20|14,30|15,30|16,10|16,20|17,40|17,60|17,50|\n",
            "|  Estonie|17,40|16,00|17,00|18,60|22,90|24,60|25,30|25,50|25,30|26,10|28,20|28,70|29,10|30,00|\n",
            "| Finlande|28,80|30,10|29,60|31,40|31,30|32,40|32,80|34,40|36,70|38,80|39,30|39,00|40,90|41,20|\n",
            "+---------+-----+-----+-----+-----+-----+-----+-----+-----+-----+-----+-----+-----+-----+-----+\n",
            "only showing top 10 rows\n",
            "\n"
          ]
        }
      ]
    },
    {
      "cell_type": "code",
      "source": [
        "df.select(\"2006\").show(5)#affiche les 5 premier ligne de la colone 2006"
      ],
      "metadata": {
        "colab": {
          "base_uri": "https://localhost:8080/"
        },
        "id": "qc99U3VRsA-0",
        "outputId": "0150e88c-0b01-4b10-e9e4-a63b56ec5ba9"
      },
      "execution_count": 31,
      "outputs": [
        {
          "output_type": "stream",
          "name": "stdout",
          "text": [
            "+-----+\n",
            "| 2006|\n",
            "+-----+\n",
            "| 8,50|\n",
            "|26,30|\n",
            "| 2,60|\n",
            "| 9,40|\n",
            "| 3,30|\n",
            "+-----+\n",
            "only showing top 5 rows\n",
            "\n"
          ]
        }
      ]
    },
    {
      "cell_type": "code",
      "source": [
        "df.select(\"2005\", \"2006\", \"2007\",\"2008\").show(5)"
      ],
      "metadata": {
        "colab": {
          "base_uri": "https://localhost:8080/"
        },
        "id": "FjJx04UDshYd",
        "outputId": "26c080a1-b571-47c7-810e-ed0fef70c8fb"
      },
      "execution_count": 32,
      "outputs": [
        {
          "output_type": "stream",
          "name": "stdout",
          "text": [
            "+-----+-----+-----+-----+\n",
            "| 2005| 2006| 2007| 2008|\n",
            "+-----+-----+-----+-----+\n",
            "| 7,20| 8,50|10,10|10,10|\n",
            "|24,40|26,30|28,20|28,90|\n",
            "| 2,30| 2,60| 3,10| 3,60|\n",
            "| 9,20| 9,40| 9,10|10,30|\n",
            "| 3,10| 3,30| 4,00| 5,10|\n",
            "+-----+-----+-----+-----+\n",
            "only showing top 5 rows\n",
            "\n"
          ]
        }
      ]
    },
    {
      "cell_type": "code",
      "source": [
        "from pyspark.sql.functions import lit\n",
        "\n",
        "df_2024 = df.withColumn(\"2024\", lit(1))#lit ajout une valeur\n",
        "df_2024.show(10)"
      ],
      "metadata": {
        "colab": {
          "base_uri": "https://localhost:8080/"
        },
        "id": "cVnf6vP8sxCQ",
        "outputId": "14ba8f10-b066-474e-a8ef-2f29bb33ae47"
      },
      "execution_count": 35,
      "outputs": [
        {
          "output_type": "stream",
          "name": "stdout",
          "text": [
            "+---------+-----+-----+-----+-----+-----+-----+-----+-----+-----+-----+-----+-----+-----+-----+----+\n",
            "|     Pays| 2005| 2006| 2007| 2008| 2009| 2010| 2011| 2012| 2013| 2014| 2015| 2016| 2017| 2018|2024|\n",
            "+---------+-----+-----+-----+-----+-----+-----+-----+-----+-----+-----+-----+-----+-----+-----+----+\n",
            "|Allemagne| 7,20| 8,50|10,10|10,10|10,90|11,70|12,50|13,60|13,80|14,40|14,90|14,90|15,50|16,50|   1|\n",
            "| Autriche|24,40|26,30|28,20|28,90|31,00|31,20|31,60|32,70|32,80|33,70|33,50|33,40|33,10|33,40|   1|\n",
            "| Belgique| 2,30| 2,60| 3,10| 3,60| 4,70| 5,60| 6,30| 7,20| 7,50| 8,00| 8,00| 8,70| 9,10| 9,40|   1|\n",
            "| Bulgarie| 9,20| 9,40| 9,10|10,30|12,00|13,90|14,20|15,80|18,90|18,10|18,30|18,80|18,70|20,50|   1|\n",
            "|   Chypre| 3,10| 3,30| 4,00| 5,10| 5,90| 6,20| 6,30| 7,10| 8,50| 9,20| 9,90| 9,90|10,50|13,90|   1|\n",
            "|  Croatie|23,70|22,70|22,20|22,00|23,60|25,10|25,40|26,80|28,00|27,80|29,00|28,30|27,30|28,00|   1|\n",
            "| Danemark|16,00|16,30|17,70|18,50|20,00|21,90|23,40|25,50|27,20|29,30|30,80|31,80|34,70|35,70|   1|\n",
            "|  Espagne| 8,40| 9,10| 9,70|10,70|13,00|13,80|13,20|14,30|15,30|16,10|16,20|17,40|17,60|17,50|   1|\n",
            "|  Estonie|17,40|16,00|17,00|18,60|22,90|24,60|25,30|25,50|25,30|26,10|28,20|28,70|29,10|30,00|   1|\n",
            "| Finlande|28,80|30,10|29,60|31,40|31,30|32,40|32,80|34,40|36,70|38,80|39,30|39,00|40,90|41,20|   1|\n",
            "+---------+-----+-----+-----+-----+-----+-----+-----+-----+-----+-----+-----+-----+-----+-----+----+\n",
            "only showing top 10 rows\n",
            "\n"
          ]
        }
      ]
    },
    {
      "cell_type": "code",
      "source": [
        "df_new = df.drop(\"2009\")\n",
        "df_new.show()"
      ],
      "metadata": {
        "colab": {
          "base_uri": "https://localhost:8080/"
        },
        "id": "wh6dJHDqt2dF",
        "outputId": "6c5812dd-6997-40a1-e755-1d6c7ece80dd"
      },
      "execution_count": 36,
      "outputs": [
        {
          "output_type": "stream",
          "name": "stdout",
          "text": [
            "+----------+-----+-----+-----+-----+-----+--------+-----+-----+-----+-----+-----+-----+-----+\n",
            "|      Pays| 2005| 2006| 2007| 2008| 2010|    2011| 2012| 2013| 2014| 2015| 2016| 2017| 2018|\n",
            "+----------+-----+-----+-----+-----+-----+--------+-----+-----+-----+-----+-----+-----+-----+\n",
            "| Allemagne| 7,20| 8,50|10,10|10,10|11,70|   12,50|13,60|13,80|14,40|14,90|14,90|15,50|16,50|\n",
            "|  Autriche|24,40|26,30|28,20|28,90|31,20|   31,60|32,70|32,80|33,70|33,50|33,40|33,10|33,40|\n",
            "|  Belgique| 2,30| 2,60| 3,10| 3,60| 5,60|    6,30| 7,20| 7,50| 8,00| 8,00| 8,70| 9,10| 9,40|\n",
            "|  Bulgarie| 9,20| 9,40| 9,10|10,30|13,90|   14,20|15,80|18,90|18,10|18,30|18,80|18,70|20,50|\n",
            "|    Chypre| 3,10| 3,30| 4,00| 5,10| 6,20|    6,30| 7,10| 8,50| 9,20| 9,90| 9,90|10,50|13,90|\n",
            "|   Croatie|23,70|22,70|22,20|22,00|25,10|   25,40|26,80|28,00|27,80|29,00|28,30|27,30|28,00|\n",
            "|  Danemark|16,00|16,30|17,70|18,50|21,90|   23,40|25,50|27,20|29,30|30,80|31,80|34,70|35,70|\n",
            "|   Espagne| 8,40| 9,10| 9,70|10,70|13,80|   13,20|14,30|15,30|16,10|16,20|17,40|17,60|17,50|\n",
            "|   Estonie|17,40|16,00|17,00|18,60|24,60|   25,30|25,50|25,30|26,10|28,20|28,70|29,10|30,00|\n",
            "|  Finlande|28,80|30,10|29,60|31,40|32,40|   32,80|34,40|36,70|38,80|39,30|39,00|40,90|41,20|\n",
            "|    France| 9,60| 9,30|10,20|11,20|12,70|(1) 12,7|13,40|14,00|14,60|15,00|15,70|16,00|16,60|\n",
            "|     Gr�ce| 7,30| 7,50| 8,20| 8,20|10,10|   11,20|13,70|15,30|15,70|15,70|15,40|17,00|18,00|\n",
            "|   Hongrie| 6,90| 7,40| 8,60| 8,60|12,70|   14,00|15,50|16,20|14,60|14,50|14,30|13,50|12,50|\n",
            "|   Irlande| 2,80| 3,00| 3,50| 3,90| 5,70|    6,60| 7,10| 7,60| 8,60| 9,10| 9,30|10,60|11,10|\n",
            "|    Italie| 7,50| 8,30| 9,80|11,50|13,00|   12,90|15,40|16,70|17,10|17,50|17,40|18,30|17,80|\n",
            "|  Lettonie|32,30|31,10|29,60|29,80|30,40|   33,50|35,70|37,00|38,60|37,50|37,10|39,00|40,30|\n",
            "|  Lituanie|16,80|16,90|16,50|17,80|19,60|   19,90|21,40|22,70|23,60|25,80|25,60|26,00|24,40|\n",
            "|Luxembourg| 1,40| 1,50| 2,70| 2,80| 2,90|    2,90| 3,10| 3,50| 4,50| 5,10| 5,40| 6,30| 9,10|\n",
            "|     Malte| 0,10| 0,10| 0,20| 0,20| 1,00|    1,90| 2,90| 3,80| 4,70| 5,10| 6,20| 7,30| 8,00|\n",
            "|  Pays-Bas| 2,50| 2,80| 3,30| 3,60| 3,90|    4,50| 4,70| 4,70| 5,40| 5,70| 5,80| 6,50| 7,40|\n",
            "+----------+-----+-----+-----+-----+-----+--------+-----+-----+-----+-----+-----+-----+-----+\n",
            "only showing top 20 rows\n",
            "\n"
          ]
        }
      ]
    },
    {
      "cell_type": "code",
      "source": [
        "df_filter = df_new.filter(df_new.Pays != \"Belgique\")\n",
        "df_filter.show()"
      ],
      "metadata": {
        "colab": {
          "base_uri": "https://localhost:8080/"
        },
        "id": "yhDd75hwuVzW",
        "outputId": "71b189ca-3255-4038-c342-2b1b08ab8d31"
      },
      "execution_count": 38,
      "outputs": [
        {
          "output_type": "stream",
          "name": "stdout",
          "text": [
            "+----------+-----+-----+-----+-----+-----+--------+-----+-----+-----+-----+-----+-----+-----+\n",
            "|      Pays| 2005| 2006| 2007| 2008| 2010|    2011| 2012| 2013| 2014| 2015| 2016| 2017| 2018|\n",
            "+----------+-----+-----+-----+-----+-----+--------+-----+-----+-----+-----+-----+-----+-----+\n",
            "| Allemagne| 7,20| 8,50|10,10|10,10|11,70|   12,50|13,60|13,80|14,40|14,90|14,90|15,50|16,50|\n",
            "|  Autriche|24,40|26,30|28,20|28,90|31,20|   31,60|32,70|32,80|33,70|33,50|33,40|33,10|33,40|\n",
            "|  Bulgarie| 9,20| 9,40| 9,10|10,30|13,90|   14,20|15,80|18,90|18,10|18,30|18,80|18,70|20,50|\n",
            "|    Chypre| 3,10| 3,30| 4,00| 5,10| 6,20|    6,30| 7,10| 8,50| 9,20| 9,90| 9,90|10,50|13,90|\n",
            "|   Croatie|23,70|22,70|22,20|22,00|25,10|   25,40|26,80|28,00|27,80|29,00|28,30|27,30|28,00|\n",
            "|  Danemark|16,00|16,30|17,70|18,50|21,90|   23,40|25,50|27,20|29,30|30,80|31,80|34,70|35,70|\n",
            "|   Espagne| 8,40| 9,10| 9,70|10,70|13,80|   13,20|14,30|15,30|16,10|16,20|17,40|17,60|17,50|\n",
            "|   Estonie|17,40|16,00|17,00|18,60|24,60|   25,30|25,50|25,30|26,10|28,20|28,70|29,10|30,00|\n",
            "|  Finlande|28,80|30,10|29,60|31,40|32,40|   32,80|34,40|36,70|38,80|39,30|39,00|40,90|41,20|\n",
            "|    France| 9,60| 9,30|10,20|11,20|12,70|(1) 12,7|13,40|14,00|14,60|15,00|15,70|16,00|16,60|\n",
            "|     Gr�ce| 7,30| 7,50| 8,20| 8,20|10,10|   11,20|13,70|15,30|15,70|15,70|15,40|17,00|18,00|\n",
            "|   Hongrie| 6,90| 7,40| 8,60| 8,60|12,70|   14,00|15,50|16,20|14,60|14,50|14,30|13,50|12,50|\n",
            "|   Irlande| 2,80| 3,00| 3,50| 3,90| 5,70|    6,60| 7,10| 7,60| 8,60| 9,10| 9,30|10,60|11,10|\n",
            "|    Italie| 7,50| 8,30| 9,80|11,50|13,00|   12,90|15,40|16,70|17,10|17,50|17,40|18,30|17,80|\n",
            "|  Lettonie|32,30|31,10|29,60|29,80|30,40|   33,50|35,70|37,00|38,60|37,50|37,10|39,00|40,30|\n",
            "|  Lituanie|16,80|16,90|16,50|17,80|19,60|   19,90|21,40|22,70|23,60|25,80|25,60|26,00|24,40|\n",
            "|Luxembourg| 1,40| 1,50| 2,70| 2,80| 2,90|    2,90| 3,10| 3,50| 4,50| 5,10| 5,40| 6,30| 9,10|\n",
            "|     Malte| 0,10| 0,10| 0,20| 0,20| 1,00|    1,90| 2,90| 3,80| 4,70| 5,10| 6,20| 7,30| 8,00|\n",
            "|  Pays-Bas| 2,50| 2,80| 3,30| 3,60| 3,90|    4,50| 4,70| 4,70| 5,40| 5,70| 5,80| 6,50| 7,40|\n",
            "|   Pologne| 6,90| 6,90| 6,90| 7,70| 9,30|   10,30|10,90|11,40|11,50|11,70|11,30|11,00|11,30|\n",
            "+----------+-----+-----+-----+-----+-----+--------+-----+-----+-----+-----+-----+-----+-----+\n",
            "only showing top 20 rows\n",
            "\n"
          ]
        }
      ]
    },
    {
      "cell_type": "markdown",
      "source": [
        "Supression des lignes de L'espagne jusqu'a  France\n"
      ],
      "metadata": {
        "id": "J6aV4W3mw1mL"
      }
    },
    {
      "cell_type": "code",
      "source": [
        "Pays_liste = [\"Espagne\", \"Estonie\", \"Finlande\",\"France\"]\n",
        "df_sans_ListePays = df_filter.filter(~df_filter.Pays.isin(Pays_liste))\n",
        "df_sans_ListePays.show()"
      ],
      "metadata": {
        "colab": {
          "base_uri": "https://localhost:8080/"
        },
        "id": "W-Q30huWwf2X",
        "outputId": "38d30c80-515f-4358-bdaf-cc57085ce5cc"
      },
      "execution_count": 41,
      "outputs": [
        {
          "output_type": "stream",
          "name": "stdout",
          "text": [
            "+------------------+-----+-----+-----+-----+-----+-----+-----+-----+-----+-----+-----+-----+-----+\n",
            "|              Pays| 2005| 2006| 2007| 2008| 2010| 2011| 2012| 2013| 2014| 2015| 2016| 2017| 2018|\n",
            "+------------------+-----+-----+-----+-----+-----+-----+-----+-----+-----+-----+-----+-----+-----+\n",
            "|         Allemagne| 7,20| 8,50|10,10|10,10|11,70|12,50|13,60|13,80|14,40|14,90|14,90|15,50|16,50|\n",
            "|          Autriche|24,40|26,30|28,20|28,90|31,20|31,60|32,70|32,80|33,70|33,50|33,40|33,10|33,40|\n",
            "|          Bulgarie| 9,20| 9,40| 9,10|10,30|13,90|14,20|15,80|18,90|18,10|18,30|18,80|18,70|20,50|\n",
            "|            Chypre| 3,10| 3,30| 4,00| 5,10| 6,20| 6,30| 7,10| 8,50| 9,20| 9,90| 9,90|10,50|13,90|\n",
            "|           Croatie|23,70|22,70|22,20|22,00|25,10|25,40|26,80|28,00|27,80|29,00|28,30|27,30|28,00|\n",
            "|          Danemark|16,00|16,30|17,70|18,50|21,90|23,40|25,50|27,20|29,30|30,80|31,80|34,70|35,70|\n",
            "|             Gr�ce| 7,30| 7,50| 8,20| 8,20|10,10|11,20|13,70|15,30|15,70|15,70|15,40|17,00|18,00|\n",
            "|           Hongrie| 6,90| 7,40| 8,60| 8,60|12,70|14,00|15,50|16,20|14,60|14,50|14,30|13,50|12,50|\n",
            "|           Irlande| 2,80| 3,00| 3,50| 3,90| 5,70| 6,60| 7,10| 7,60| 8,60| 9,10| 9,30|10,60|11,10|\n",
            "|            Italie| 7,50| 8,30| 9,80|11,50|13,00|12,90|15,40|16,70|17,10|17,50|17,40|18,30|17,80|\n",
            "|          Lettonie|32,30|31,10|29,60|29,80|30,40|33,50|35,70|37,00|38,60|37,50|37,10|39,00|40,30|\n",
            "|          Lituanie|16,80|16,90|16,50|17,80|19,60|19,90|21,40|22,70|23,60|25,80|25,60|26,00|24,40|\n",
            "|        Luxembourg| 1,40| 1,50| 2,70| 2,80| 2,90| 2,90| 3,10| 3,50| 4,50| 5,10| 5,40| 6,30| 9,10|\n",
            "|             Malte| 0,10| 0,10| 0,20| 0,20| 1,00| 1,90| 2,90| 3,80| 4,70| 5,10| 6,20| 7,30| 8,00|\n",
            "|          Pays-Bas| 2,50| 2,80| 3,30| 3,60| 3,90| 4,50| 4,70| 4,70| 5,40| 5,70| 5,80| 6,50| 7,40|\n",
            "|           Pologne| 6,90| 6,90| 6,90| 7,70| 9,30|10,30|10,90|11,40|11,50|11,70|11,30|11,00|11,30|\n",
            "|          Portugal|19,50|20,80|21,90|22,90|24,20|24,60|24,60|25,70|29,50|30,50|30,90|30,60|30,30|\n",
            "|R�publique tch�que| 7,10| 7,40| 7,90| 8,70|10,50|10,90|12,80|13,90|15,10|15,10|14,90|14,80|15,20|\n",
            "|          Roumanie|17,60|17,10|18,20|20,20|22,80|21,20|22,80|23,90|24,80|24,80|25,00|24,50|23,90|\n",
            "|       Royaume-Uni| 1,10| 1,30| 1,60| 2,70| 3,80| 4,30| 4,40| 5,50| 6,70| 8,30| 9,00| 9,70|11,00|\n",
            "+------------------+-----+-----+-----+-----+-----+-----+-----+-----+-----+-----+-----+-----+-----+\n",
            "only showing top 20 rows\n",
            "\n"
          ]
        }
      ]
    },
    {
      "cell_type": "markdown",
      "source": [
        "**Filtrer les pays dont la valeur en 2018 est supérieur a 30?**"
      ],
      "metadata": {
        "id": "lK79Y4h4GhA_"
      }
    },
    {
      "cell_type": "code",
      "source": [
        "df_filter_2018 = df.filter(df[\"2018\"] >\"30\")\n",
        "df_filter_2018.show()"
      ],
      "metadata": {
        "colab": {
          "base_uri": "https://localhost:8080/"
        },
        "id": "ZG_qMoo6wQmi",
        "outputId": "df082bce-83f9-4015-b6ff-f6cdb8cfda48"
      },
      "execution_count": 43,
      "outputs": [
        {
          "output_type": "stream",
          "name": "stdout",
          "text": [
            "+----------+-----+-----+-----+-----+-----+-----+-----+-----+-----+-----+-----+-----+-----+-----+\n",
            "|      Pays| 2005| 2006| 2007| 2008| 2009| 2010| 2011| 2012| 2013| 2014| 2015| 2016| 2017| 2018|\n",
            "+----------+-----+-----+-----+-----+-----+-----+-----+-----+-----+-----+-----+-----+-----+-----+\n",
            "|  Autriche|24,40|26,30|28,20|28,90|31,00|31,20|31,60|32,70|32,80|33,70|33,50|33,40|33,10|33,40|\n",
            "|  Belgique| 2,30| 2,60| 3,10| 3,60| 4,70| 5,60| 6,30| 7,20| 7,50| 8,00| 8,00| 8,70| 9,10| 9,40|\n",
            "|  Danemark|16,00|16,30|17,70|18,50|20,00|21,90|23,40|25,50|27,20|29,30|30,80|31,80|34,70|35,70|\n",
            "|   Estonie|17,40|16,00|17,00|18,60|22,90|24,60|25,30|25,50|25,30|26,10|28,20|28,70|29,10|30,00|\n",
            "|  Finlande|28,80|30,10|29,60|31,40|31,30|32,40|32,80|34,40|36,70|38,80|39,30|39,00|40,90|41,20|\n",
            "|  Lettonie|32,30|31,10|29,60|29,80|34,30|30,40|33,50|35,70|37,00|38,60|37,50|37,10|39,00|40,30|\n",
            "|Luxembourg| 1,40| 1,50| 2,70| 2,80| 2,90| 2,90| 2,90| 3,10| 3,50| 4,50| 5,10| 5,40| 6,30| 9,10|\n",
            "|     Malte| 0,10| 0,10| 0,20| 0,20| 0,20| 1,00| 1,90| 2,90| 3,80| 4,70| 5,10| 6,20| 7,30| 8,00|\n",
            "|  Pays-Bas| 2,50| 2,80| 3,30| 3,60| 4,30| 3,90| 4,50| 4,70| 4,70| 5,40| 5,70| 5,80| 6,50| 7,40|\n",
            "|  Portugal|19,50|20,80|21,90|22,90|24,40|24,20|24,60|24,60|25,70|29,50|30,50|30,90|30,60|30,30|\n",
            "|     Su�de|40,70|42,40|43,90|44,70|47,90|47,00|48,20|50,20|50,80|51,90|53,00|53,40|54,20|54,60|\n",
            "+----------+-----+-----+-----+-----+-----+-----+-----+-----+-----+-----+-----+-----+-----+-----+\n",
            "\n"
          ]
        }
      ]
    },
    {
      "cell_type": "code",
      "source": [
        "df.printSchema() #Regexp.place"
      ],
      "metadata": {
        "colab": {
          "base_uri": "https://localhost:8080/"
        },
        "id": "sa-P7FeWwcIC",
        "outputId": "5849873a-92c6-4a7d-c5a6-01a95b4cfc65"
      },
      "execution_count": 44,
      "outputs": [
        {
          "output_type": "stream",
          "name": "stdout",
          "text": [
            "root\n",
            " |-- Pays: string (nullable = true)\n",
            " |-- 2005: string (nullable = true)\n",
            " |-- 2006: string (nullable = true)\n",
            " |-- 2007: string (nullable = true)\n",
            " |-- 2008: string (nullable = true)\n",
            " |-- 2009: string (nullable = true)\n",
            " |-- 2010: string (nullable = true)\n",
            " |-- 2011: string (nullable = true)\n",
            " |-- 2012: string (nullable = true)\n",
            " |-- 2013: string (nullable = true)\n",
            " |-- 2014: string (nullable = true)\n",
            " |-- 2015: string (nullable = true)\n",
            " |-- 2016: string (nullable = true)\n",
            " |-- 2017: string (nullable = true)\n",
            " |-- 2018: string (nullable = true)\n",
            "\n"
          ]
        }
      ]
    },
    {
      "cell_type": "code",
      "source": [
        "from pyspark.sql import SparkSession\n",
        "from pyspark.sql.functions import col, regexp_replace\n",
        "\n",
        "# Initialisation de SparkSession\n",
        "spark = SparkSession.builder.appName(\"example\").getOrCreate()\n",
        "\n",
        "# Création du DataFrame avec des données fictives\n",
        "data = [\n",
        "(\"Allemagne\", \"7,20\", \"8,50\", \"10,10\", \"10,10\", \"10,90\", \"11,70\", \"12,50\", \"13,60\", \"13,80\", \"14,40\", \"14,90\", \"14,90\", \"15,50\", \"16,50\"),\n",
        "(\"Autriche\", \"24,40\", \"26,30\", \"28,20\", \"28,90\", \"31,00\", \"31,20\", \"31,60\", \"32,70\", \"32,80\", \"33,70\", \"33,50\", \"33,40\", \"33,10\", \"33,40\"),\n",
        "(\"Belgique\", \"2,30\", \"2,60\", \"3,10\", \"3,60\", \"4,70\", \"5,60\", \"6,30\", \"7,20\", \"7,50\", \"8,00\", \"8,00\", \"8,70\", \"9,10\", \"9,40\"),\n",
        "(\"Bulgarie\", \"9,20\", \"9,40\", \"9,10\", \"10,30\", \"12,00\", \"13,90\", \"14,20\", \"15,80\", \"18,90\", \"18,10\", \"18,30\", \"18,80\", \"18,70\", \"20,50\"),\n",
        "(\"Chypre\", \"3,10\", \"3,30\", \"4,00\", \"5,10\", \"5,90\", \"6,20\", \"6,30\", \"7,10\", \"8,50\", \"9,20\", \"9,90\", \"9,90\", \"10,50\", \"13,90\")\n",
        "]\n",
        "\n",
        "columns = [\"Pays\", \"2005\", \"2006\", \"2007\", \"2008\", \"2009\", \"2010\", \"2011\", \"2012\", \"2013\", \"2014\", \"2015\", \"2016\", \"2017\", \"2018\"]\n",
        "\n",
        "df = spark.createDataFrame(data, columns)\n",
        "\n",
        "# Remplacer les virgules par des points pour convertir les valeurs en float\n",
        "for column in df.columns[1:]:\n",
        "  df = df.withColumn(column, regexp_replace(col(column), \",\", \".\"))\n",
        "  df = df.withColumn(column, col(column).cast(\"float\"))\n",
        "\n",
        "# Vérifier la conversion\n",
        "df.printSchema()\n",
        "\n",
        "# Afficher les données après conversion pour vérification\n",
        "df.show()\n",
        "\n",
        "# Appliquer le filtre après conversion\n",
        "df_filter_2018 = df.filter(col(\"2018\") > 30)\n",
        "df_filter_2018.show()"
      ],
      "metadata": {
        "colab": {
          "base_uri": "https://localhost:8080/"
        },
        "id": "P4FEmwb9JHsn",
        "outputId": "512adc79-52e6-4b89-b177-c144c21638f7"
      },
      "execution_count": 47,
      "outputs": [
        {
          "output_type": "stream",
          "name": "stdout",
          "text": [
            "root\n",
            " |-- Pays: string (nullable = true)\n",
            " |-- 2005: float (nullable = true)\n",
            " |-- 2006: float (nullable = true)\n",
            " |-- 2007: float (nullable = true)\n",
            " |-- 2008: float (nullable = true)\n",
            " |-- 2009: float (nullable = true)\n",
            " |-- 2010: float (nullable = true)\n",
            " |-- 2011: float (nullable = true)\n",
            " |-- 2012: float (nullable = true)\n",
            " |-- 2013: float (nullable = true)\n",
            " |-- 2014: float (nullable = true)\n",
            " |-- 2015: float (nullable = true)\n",
            " |-- 2016: float (nullable = true)\n",
            " |-- 2017: float (nullable = true)\n",
            " |-- 2018: float (nullable = true)\n",
            "\n",
            "+---------+----+----+----+----+----+----+----+----+----+----+----+----+----+----+\n",
            "|     Pays|2005|2006|2007|2008|2009|2010|2011|2012|2013|2014|2015|2016|2017|2018|\n",
            "+---------+----+----+----+----+----+----+----+----+----+----+----+----+----+----+\n",
            "|Allemagne| 7.2| 8.5|10.1|10.1|10.9|11.7|12.5|13.6|13.8|14.4|14.9|14.9|15.5|16.5|\n",
            "| Autriche|24.4|26.3|28.2|28.9|31.0|31.2|31.6|32.7|32.8|33.7|33.5|33.4|33.1|33.4|\n",
            "| Belgique| 2.3| 2.6| 3.1| 3.6| 4.7| 5.6| 6.3| 7.2| 7.5| 8.0| 8.0| 8.7| 9.1| 9.4|\n",
            "| Bulgarie| 9.2| 9.4| 9.1|10.3|12.0|13.9|14.2|15.8|18.9|18.1|18.3|18.8|18.7|20.5|\n",
            "|   Chypre| 3.1| 3.3| 4.0| 5.1| 5.9| 6.2| 6.3| 7.1| 8.5| 9.2| 9.9| 9.9|10.5|13.9|\n",
            "+---------+----+----+----+----+----+----+----+----+----+----+----+----+----+----+\n",
            "\n",
            "+--------+----+----+----+----+----+----+----+----+----+----+----+----+----+----+\n",
            "|    Pays|2005|2006|2007|2008|2009|2010|2011|2012|2013|2014|2015|2016|2017|2018|\n",
            "+--------+----+----+----+----+----+----+----+----+----+----+----+----+----+----+\n",
            "|Autriche|24.4|26.3|28.2|28.9|31.0|31.2|31.6|32.7|32.8|33.7|33.5|33.4|33.1|33.4|\n",
            "+--------+----+----+----+----+----+----+----+----+----+----+----+----+----+----+\n",
            "\n"
          ]
        }
      ]
    },
    {
      "cell_type": "markdown",
      "source": [
        "**Comment ajoutert une niuvelle colonne \"2025\" avec des valeur calculer comme etant le double des valeur de 2018 ?**\n"
      ],
      "metadata": {
        "id": "QtMV3xviLQOb"
      }
    },
    {
      "cell_type": "code",
      "source": [
        "df_with_2025 = df.withColumn(\"2025\" , col(\"2018\")*2)\n",
        "df_with_2025.show()"
      ],
      "metadata": {
        "colab": {
          "base_uri": "https://localhost:8080/"
        },
        "id": "hZG-pwCAJHmT",
        "outputId": "41b16cdc-dd40-4af5-9ef8-930998a5138f"
      },
      "execution_count": 48,
      "outputs": [
        {
          "output_type": "stream",
          "name": "stdout",
          "text": [
            "+---------+----+----+----+----+----+----+----+----+----+----+----+----+----+----+----+\n",
            "|     Pays|2005|2006|2007|2008|2009|2010|2011|2012|2013|2014|2015|2016|2017|2018|2025|\n",
            "+---------+----+----+----+----+----+----+----+----+----+----+----+----+----+----+----+\n",
            "|Allemagne| 7.2| 8.5|10.1|10.1|10.9|11.7|12.5|13.6|13.8|14.4|14.9|14.9|15.5|16.5|33.0|\n",
            "| Autriche|24.4|26.3|28.2|28.9|31.0|31.2|31.6|32.7|32.8|33.7|33.5|33.4|33.1|33.4|66.8|\n",
            "| Belgique| 2.3| 2.6| 3.1| 3.6| 4.7| 5.6| 6.3| 7.2| 7.5| 8.0| 8.0| 8.7| 9.1| 9.4|18.8|\n",
            "| Bulgarie| 9.2| 9.4| 9.1|10.3|12.0|13.9|14.2|15.8|18.9|18.1|18.3|18.8|18.7|20.5|41.0|\n",
            "|   Chypre| 3.1| 3.3| 4.0| 5.1| 5.9| 6.2| 6.3| 7.1| 8.5| 9.2| 9.9| 9.9|10.5|13.9|27.8|\n",
            "+---------+----+----+----+----+----+----+----+----+----+----+----+----+----+----+----+\n",
            "\n"
          ]
        }
      ]
    },
    {
      "cell_type": "markdown",
      "source": [
        "**Comment trier le dataFrame par colonne \"2018\" en ordre decroissant?**"
      ],
      "metadata": {
        "id": "qGM7aJAkNavT"
      }
    },
    {
      "cell_type": "code",
      "source": [
        "df_Dec_2018 =df.orderBy(df[\"2018\"].desc())\n",
        "df_Dec_2018.show()"
      ],
      "metadata": {
        "colab": {
          "base_uri": "https://localhost:8080/"
        },
        "id": "cpZrkt-pJHhL",
        "outputId": "914d81ae-3d4f-489f-c4f2-ebd75347cfa7"
      },
      "execution_count": 50,
      "outputs": [
        {
          "output_type": "stream",
          "name": "stdout",
          "text": [
            "+---------+----+----+----+----+----+----+----+----+----+----+----+----+----+----+\n",
            "|     Pays|2005|2006|2007|2008|2009|2010|2011|2012|2013|2014|2015|2016|2017|2018|\n",
            "+---------+----+----+----+----+----+----+----+----+----+----+----+----+----+----+\n",
            "| Autriche|24.4|26.3|28.2|28.9|31.0|31.2|31.6|32.7|32.8|33.7|33.5|33.4|33.1|33.4|\n",
            "| Bulgarie| 9.2| 9.4| 9.1|10.3|12.0|13.9|14.2|15.8|18.9|18.1|18.3|18.8|18.7|20.5|\n",
            "|Allemagne| 7.2| 8.5|10.1|10.1|10.9|11.7|12.5|13.6|13.8|14.4|14.9|14.9|15.5|16.5|\n",
            "|   Chypre| 3.1| 3.3| 4.0| 5.1| 5.9| 6.2| 6.3| 7.1| 8.5| 9.2| 9.9| 9.9|10.5|13.9|\n",
            "| Belgique| 2.3| 2.6| 3.1| 3.6| 4.7| 5.6| 6.3| 7.2| 7.5| 8.0| 8.0| 8.7| 9.1| 9.4|\n",
            "+---------+----+----+----+----+----+----+----+----+----+----+----+----+----+----+\n",
            "\n"
          ]
        }
      ]
    },
    {
      "cell_type": "markdown",
      "source": [
        "**Comment remplacer les valeur nulles dans la colonne \"2018 par la moyenne des valeurs de cette colonne?**"
      ],
      "metadata": {
        "id": "OVDV6q9eOkEI"
      }
    },
    {
      "cell_type": "code",
      "source": [
        "from pyspark.sql.functions import avg"
      ],
      "metadata": {
        "id": "rt_ZhJIKJHKq"
      },
      "execution_count": 52,
      "outputs": []
    },
    {
      "cell_type": "code",
      "source": [
        "#df_null = df.fillna(df[\"2018\"].avg())\n",
        "Moy = df.select(avg(col(\"2018\"))).first()[0]# cherche la valeur 0 du dataframe\n",
        "\n",
        "df_val_null = df.na.fill({\"2011\":round(Moy)})\n",
        "df_val_null.show()"
      ],
      "metadata": {
        "colab": {
          "base_uri": "https://localhost:8080/"
        },
        "id": "qJmionZdPNHT",
        "outputId": "4c487a5c-50c1-47af-e37f-7e46e1a49b59"
      },
      "execution_count": 66,
      "outputs": [
        {
          "output_type": "stream",
          "name": "stdout",
          "text": [
            "+---------+----+----+----+----+----+----+----+----+----+----+----+----+----+----+\n",
            "|     Pays|2005|2006|2007|2008|2009|2010|2011|2012|2013|2014|2015|2016|2017|2018|\n",
            "+---------+----+----+----+----+----+----+----+----+----+----+----+----+----+----+\n",
            "|Allemagne| 7.2| 8.5|10.1|10.1|10.9|11.7|12.5|13.6|13.8|14.4|14.9|14.9|15.5|16.5|\n",
            "| Autriche|24.4|26.3|28.2|28.9|31.0|31.2|31.6|32.7|32.8|33.7|33.5|33.4|33.1|33.4|\n",
            "| Belgique| 2.3| 2.6| 3.1| 3.6| 4.7| 5.6| 6.3| 7.2| 7.5| 8.0| 8.0| 8.7| 9.1| 9.4|\n",
            "| Bulgarie| 9.2| 9.4| 9.1|10.3|12.0|13.9|14.2|15.8|18.9|18.1|18.3|18.8|18.7|20.5|\n",
            "|   Chypre| 3.1| 3.3| 4.0| 5.1| 5.9| 6.2| 6.3| 7.1| 8.5| 9.2| 9.9| 9.9|10.5|13.9|\n",
            "+---------+----+----+----+----+----+----+----+----+----+----+----+----+----+----+\n",
            "\n"
          ]
        }
      ]
    }
  ]
}